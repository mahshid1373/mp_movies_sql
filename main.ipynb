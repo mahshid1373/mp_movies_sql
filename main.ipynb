{
 "cells": [
  {
   "cell_type": "markdown",
   "metadata": {},
   "source": [
    "# Index\n",
    "\n",
    "- [1. Movies their review and success factors](#1-Movies-and-their-review-and-success-factors)\n",
    "  - [1.1 Notebook Overview](#1.1-Notebook-Overview)\n",
    "  - [1.2 Problem Statement](#1.2-Problem-Statement)\n",
    "  - [1.3 Hypothesis](#1.3-Hypothesis)\n",
    "  - [1.4 Objectives](#1.4-Objectives)\n",
    "\n",
    "- [2. Main file](#2-importing-libraries-and-datasets)\n",
    "  - [2.1 Data Sending from MySQL to Python](#2.1-Data-Sending-from-MySQL-to-Python)\n",
    "  - [2.2 Queries](#2.2-Queries)\n",
    "    - [2.2.1 Queries for the Hypothesis 1](#2.2.1-Queries-for-the-Hypothesis-1)\n",
    "    - [2.2.2 Queries for the Hypothesis 2](#2.2.2-Queries-for-the-Hypothesis-2)\n",
    "    - [2.2.3 Queries for the Hypothesis 3](#2.2.2-Queries-for-the-Hypothesis-3)\n",
    "\n",
    "- [3. Hypotheses Testing Visualisation](#3-Hypotheses-Testing-Visualisation)\n",
    "  - [3.1 Optimal Movie Runtime and Success Metrics](#3.1-Optimal-Movie-Runtime-and-Success-Metrics)\n",
    "  - [3.2 Revenue Difference Between Action and War Genres](#3.2-Revenue-Difference-Between-Action-and-War-Genres)\n",
    "  - [3.3 Impact on Budget on User Ratings](#3.3-Impact-on-Budget-on-User-Ratings)"
   ]
  },
  {
   "cell_type": "markdown",
   "metadata": {},
   "source": [
    "# 1. Movies their review and success factors"
   ]
  },
  {
   "cell_type": "markdown",
   "metadata": {},
   "source": [
    "## 1.1 Notebook Overview\n",
    "\n",
    "- In this notebook, we show you the queries that we did in our database that we created in order to get the answers that we need according to our hypothesis. Our database is about movies and their respective ratings according to the IMDB and their users, for more information about our database check out the SQL folder!\n"
   ]
  },
  {
   "cell_type": "markdown",
   "metadata": {},
   "source": [
    "## 1.2 Problem Statement\n",
    "\n",
    "- How can various factours affect the success and the review of movies ?"
   ]
  },
  {
   "cell_type": "markdown",
   "metadata": {},
   "source": [
    "## 1.3 Hypothesis\n",
    "\n",
    "- Optimal Movie Runtime and Success Metrics\n",
    "- Revenue Difference Between Action and War Genres\n",
    "- Impact of Budget on User Ratings"
   ]
  },
  {
   "cell_type": "markdown",
   "metadata": {},
   "source": [
    "## 1.4 Objectives\n",
    "\n",
    "- This analysis seek to explore various factors affecting the success and the reception of movies.\n",
    "- Every information gathered in this analysis can be used by companies or consumers in order to improve in some way the success of movies production. "
   ]
  },
  {
   "cell_type": "markdown",
   "metadata": {},
   "source": [
    "# 2. Main file\n",
    "\n",
    "### 2.1 Data Sending from MySQL to Python"
   ]
  },
  {
   "cell_type": "code",
   "execution_count": 2,
   "metadata": {},
   "outputs": [],
   "source": [
    "import pandas as pd"
   ]
  },
  {
   "cell_type": "code",
   "execution_count": 3,
   "metadata": {},
   "outputs": [],
   "source": [
    "user = \"root\"\n",
    "password = \"Admin149.\"\n",
    "host = \"127.0.0.1\"\n",
    "port = \"3306\"\n",
    "db = \"movies_schema\"\n",
    "from sqlalchemy import create_engine, text\n",
    "engine = create_engine(f'mysql+mysqlconnector://{user}:{password}@{host}:{port}/{db}')"
   ]
  },
  {
   "cell_type": "markdown",
   "metadata": {},
   "source": [
    "## 2.2 Queries\n",
    "\n",
    "- To test our hypothesis we had to gather information from our database which is called 'movies_schema'. In order to do that we had to do some queries to our database.\n"
   ]
  },
  {
   "cell_type": "markdown",
   "metadata": {},
   "source": [
    "### 2.2.1 Queries for the Hypothesis 1 "
   ]
  },
  {
   "cell_type": "code",
   "execution_count": 4,
   "metadata": {},
   "outputs": [
    {
     "name": "stdout",
     "output_type": "stream",
     "text": [
      "Query 1 Results:\n",
      "   min_runtime  max_runtime  avg_runtime\n",
      "0          0.0       1140.0    105.69568\n",
      "\n",
      "Query 2 Results:\n",
      "  runtime_range  avg_popularity\n",
      "0        0-1h30         5.38588\n",
      "1       1h30-2h         7.16357\n",
      "2         2h-3h         9.94890\n",
      "3       Over 3h         7.70918\n"
     ]
    }
   ],
   "source": [
    "# Define your queries\n",
    "query1 = \"\"\"\n",
    "SELECT \n",
    "    MIN(runtime) AS min_runtime,\n",
    "    MAX(runtime) AS max_runtime,\n",
    "    AVG(runtime) AS avg_runtime\n",
    "FROM movies_schema.movies_metadata;\n",
    "\"\"\"\n",
    "\n",
    "query2 = \"\"\"\n",
    "SELECT \n",
    "    CASE \n",
    "        WHEN runtime BETWEEN 0 AND 90 THEN '0-1h30'\n",
    "        WHEN runtime BETWEEN 91 AND 120 THEN '1h30-2h'\n",
    "        WHEN runtime BETWEEN 121 AND 180 THEN '2h-3h'\n",
    "        ELSE 'Over 3h'\n",
    "    END AS runtime_range,\n",
    "    AVG(popularity) AS avg_popularity\n",
    "FROM movies_schema.movies_metadata\n",
    "GROUP BY runtime_range\n",
    "ORDER BY runtime_range;\n",
    "\"\"\"\n",
    "\n",
    "# Create a connection\n",
    "connection = engine.connect()\n",
    "\n",
    "# Execute the first query and read the result into a DataFrame\n",
    "hypothesis_1_1_df = pd.read_sql_query(query1, connection)\n",
    "\n",
    "# Execute the second query and read the result into another DataFrame\n",
    "hypothesis_1_df = pd.read_sql_query(query2, connection)\n",
    "\n",
    "# Close the database connection\n",
    "connection.close()\n",
    "\n",
    "# Print the results\n",
    "print(\"Query 1 Results:\")\n",
    "print(hypothesis_1_1_df.head())\n",
    "print(\"\\nQuery 2 Results:\")\n",
    "print(hypothesis_1_df.head())"
   ]
  },
  {
   "cell_type": "markdown",
   "metadata": {},
   "source": [
    "### 2.2.2 Queries for the Hypothesis 2 "
   ]
  },
  {
   "cell_type": "code",
   "execution_count": 13,
   "metadata": {},
   "outputs": [
    {
     "name": "stdout",
     "output_type": "stream",
     "text": [
      "Query 3 Results:\n",
      "             genre  average_revenue\n",
      "0        Adventure     1.504441e+08\n",
      "1        Animation     1.404673e+08\n",
      "2  Science Fiction     1.351056e+08\n",
      "3           Family     1.345392e+08\n",
      "4           Action     8.742986e+07\n"
     ]
    }
   ],
   "source": [
    "# Define your queries\n",
    "query3 = \"\"\"\n",
    "SELECT \n",
    "    genres AS genre,\n",
    "    ROUND(AVG(revenue), 2) AS average_revenue\n",
    "FROM \n",
    "    movies_schema.movies_metadata\n",
    "WHERE \n",
    "    genres IS NOT NULL AND genres <> '' AND revenue IS NOT NULL\n",
    "GROUP BY \n",
    "    genres\n",
    "HAVING \n",
    "    AVG(revenue) IS NOT NULL\n",
    "    AND AVG(revenue) > 0 -- Filter out genres with average revenue of 0\n",
    "ORDER BY \n",
    "    average_revenue DESC;\n",
    "\"\"\"\n",
    "\n",
    "# Create a connection\n",
    "connection = engine.connect()\n",
    "\n",
    "# Execute the query and read the result into a DataFrame\n",
    "hypothesis_2_df = pd.read_sql_query(query3, connection)\n",
    "\n",
    "\n",
    "\n",
    "# Close the database connection\n",
    "connection.close()\n",
    "\n",
    "# Print the results\n",
    "print(\"Query 3 Results:\")\n",
    "print(hypothesis_2_df.head())"
   ]
  },
  {
   "cell_type": "markdown",
   "metadata": {},
   "source": [
    "### 2.2.3 Queries for the Hypothesis 3 "
   ]
  },
  {
   "cell_type": "code",
   "execution_count": 8,
   "metadata": {},
   "outputs": [],
   "source": [
    "query4 = \"\"\"\n",
    "SELECT \n",
    "    m.title,\n",
    "    m.budget,\n",
    "    ROUND(AVG(r.rating), 1) AS average_rating\n",
    "FROM \n",
    "    movies_schema.movies_metadata m\n",
    "JOIN \n",
    "    (SELECT DISTINCT movieId, userId, rating FROM movies_schema.ratings_small) r ON m.id = r.movieId\n",
    "WHERE \n",
    "    m.budget IS NOT NULL\n",
    "GROUP BY\n",
    "    m.title,\n",
    "    m.budget\n",
    "ORDER BY \n",
    "    m.budget DESC\n",
    "LIMIT 15;\n",
    "\"\"\""
   ]
  },
  {
   "cell_type": "code",
   "execution_count": 19,
   "metadata": {},
   "outputs": [
    {
     "name": "stdout",
     "output_type": "stream",
     "text": [
      "Query 4 Results:\n",
      "                                         title     budget  average_rating\n",
      "0  Pirates of the Caribbean: On Stranger Tides  380000000             4.0\n",
      "1     Pirates of the Caribbean: At World's End  300000000             4.0\n",
      "2                                 Spider-Man 3  258000000             5.0\n",
      "3       Harry Potter and the Half-Blood Prince  250000000             4.0\n",
      "4     The Chronicles of Narnia: Prince Caspian  225000000             3.7\n"
     ]
    }
   ],
   "source": [
    "# Create a connection\n",
    "connection = engine.connect()\n",
    "\n",
    "# Execute the query and read the result into a DataFrame\n",
    "hypothesis_3_df = pd.read_sql_query(query4, connection)\n",
    "\n",
    "# Close the database connection\n",
    "connection.close()\n",
    "\n",
    "# Print the results\n",
    "print(\"Query 4 Results:\")\n",
    "print(hypothesis_3_df.head())"
   ]
  },
  {
   "cell_type": "markdown",
   "metadata": {},
   "source": [
    "## 3. Hypotheses Testing Visualisation"
   ]
  },
  {
   "cell_type": "markdown",
   "metadata": {},
   "source": [
    "### 3.1 Optimal Movie Runtime and Success Metrics\n",
    "\n",
    "\n"
   ]
  },
  {
   "cell_type": "code",
   "execution_count": 5,
   "metadata": {},
   "outputs": [
    {
     "data": {
      "image/png": "[encoded data removed]",
      "text/plain": [
       "<Figure size 1000x600 with 1 Axes>"
      ]
     },
     "metadata": {},
     "output_type": "display_data"
    }
   ],
   "source": [
    "import matplotlib.pyplot as plt\n",
    "\n",
    "# Plotting\n",
    "plt.figure(figsize=(10, 6))\n",
    "plt.bar(hypothesis_1_df['runtime_range'], hypothesis_1_df['avg_popularity'], color='skyblue')\n",
    "plt.xlabel('Runtime Range')\n",
    "plt.ylabel('Average Popularity')\n",
    "plt.title('Average Popularity by Runtime Range')\n",
    "plt.xticks(rotation=45)\n",
    "plt.tight_layout()\n",
    "\n",
    "# Show plot\n",
    "plt.show()"
   ]
  },
  {
   "cell_type": "markdown",
   "metadata": {},
   "source": [
    "- According to our analysis there is actually a runtime that correlates with higher popularity which corresponds to a film with a duration in between of 2 to 3h."
   ]
  },
  {
   "cell_type": "markdown",
   "metadata": {},
   "source": [
    "### 3.2 Revenue Difference Between Action and War Genres"
   ]
  },
  {
   "cell_type": "code",
   "execution_count": 14,
   "metadata": {},
   "outputs": [
    {
     "data": {
      "image/png": "[encoded data removed]",
      "text/plain": [
       "<Figure size 1000x600 with 1 Axes>"
      ]
     },
     "metadata": {},
     "output_type": "display_data"
    }
   ],
   "source": [
    "from matplotlib.ticker import FuncFormatter\n",
    "\n",
    "# Plotting\n",
    "plt.figure(figsize=(10, 6))\n",
    "bars = plt.barh(hypothesis_2_df['genre'], hypothesis_2_df['average_revenue'], color='skyblue')\n",
    "\n",
    "# Function to format x-axis labels to display millions in a concise format (e.g., 20M instead of 20000000M)\n",
    "def millions_formatter(x, pos):\n",
    "    # Divide x by 1,000,000 to convert it back to millions for display\n",
    "    return f'{int(x / 1000000)}M'\n",
    "\n",
    "# Set the formatter for x-axis labels\n",
    "formatter = FuncFormatter(millions_formatter)\n",
    "plt.gca().xaxis.set_major_formatter(formatter)\n",
    "\n",
    "plt.xlabel('Average Revenue (Millions)')\n",
    "plt.ylabel('Genre')\n",
    "plt.title('Average Revenue by Genre')\n",
    "plt.gca().invert_yaxis()  # Invert y-axis to have highest revenue at the top\n",
    "plt.grid(axis='x', linestyle='--', alpha=0.7)\n",
    "plt.tight_layout()\n",
    "\n",
    "# Display plot\n",
    "plt.show()"
   ]
  },
  {
   "cell_type": "markdown",
   "metadata": {},
   "source": [
    "- As we can check Action genres films actually generates more revenue than War movies, even though our hypothesis was that they eventually were more even"
   ]
  },
  {
   "cell_type": "markdown",
   "metadata": {},
   "source": [
    "### 3.3 Impact on Budget on User Ratings"
   ]
  },
  {
   "cell_type": "code",
   "execution_count": 18,
   "metadata": {},
   "outputs": [
    {
     "data": {
      "application/vnd.plotly.v1+json": {
       "config": {
        "plotlyServerURL": "https://plot.ly"
       },
       "data": [
        {
         "alignmentgroup": "True",
         "hovertemplate": "Average Rating=%{x}<br>Movie Title=%{y}<br>Budget (in USD)=%{text}<extra></extra>",
         "legendgroup": "",
         "marker": {
          "color": "#636efa",
          "pattern": {
           "shape": ""
          }
         },
         "name": "",
         "offsetgroup": "",
         "orientation": "h",
         "showlegend": false,
         "text": [
          380000000,
          300000000,
          258000000,
          250000000,
          225000000,
          207000000,
          200000000,
          200000000,
          200000000,
          200000000,
          200000000,
          185000000,
          185000000,
          180000000,
          170000000
         ],
         "textposition": "outside",
         "texttemplate": "$%{text:.2s}",
         "type": "bar",
         "x": [
          4,
          4,
          5,
          4,
          3.7,
          3.5,
          3.9,
          4.2,
          3.4,
          4.2,
          2.5,
          2.8,
          3.5,
          3.9,
          3
         ],
         "xaxis": "x",
         "y": [
          "Pirates of the Caribbean: On Stranger Tides",
          "Pirates of the Caribbean: At World's End",
          "Spider-Man 3",
          "Harry Potter and the Half-Blood Prince",
          "The Chronicles of Narnia: Prince Caspian",
          "King Kong",
          "Pirates of the Caribbean: Dead Man's Chest",
          "Terminator 3: Rise of the Machines",
          "Titanic",
          "Terminator Salvation",
          "Spider-Man 2",
          "Indiana Jones and the Kingdom of the Crystal Skull",
          "The Dark Knight",
          "The Golden Compass",
          "Wild Wild West"
         ],
         "yaxis": "y"
        }
       ],
       "layout": {
        "barmode": "relative",
        "height": 600,
        "legend": {
         "tracegroupgap": 0
        },
        "template": {
         "data": {
          "bar": [
           {
            "error_x": {
             "color": "#2a3f5f"
            },
            "error_y": {
             "color": "#2a3f5f"
            },
            "marker": {
             "line": {
              "color": "#E5ECF6",
              "width": 0.5
             },
             "pattern": {
              "fillmode": "overlay",
              "size": 10,
              "solidity": 0.2
             }
            },
            "type": "bar"
           }
          ],
          "barpolar": [
           {
            "marker": {
             "line": {
              "color": "#E5ECF6",
              "width": 0.5
             },
             "pattern": {
              "fillmode": "overlay",
              "size": 10,
              "solidity": 0.2
             }
            },
            "type": "barpolar"
           }
          ],
          "carpet": [
           {
            "aaxis": {
             "endlinecolor": "#2a3f5f",
             "gridcolor": "white",
             "linecolor": "white",
             "minorgridcolor": "white",
             "startlinecolor": "#2a3f5f"
            },
            "baxis": {
             "endlinecolor": "#2a3f5f",
             "gridcolor": "white",
             "linecolor": "white",
             "minorgridcolor": "white",
             "startlinecolor": "#2a3f5f"
            },
            "type": "carpet"
           }
          ],
          "choropleth": [
           {
            "colorbar": {
             "outlinewidth": 0,
             "ticks": ""
            },
            "type": "choropleth"
           }
          ],
          "contour": [
           {
            "colorbar": {
             "outlinewidth": 0,
             "ticks": ""
            },
            "colorscale": [
             [
              0,
              "#0d0887"
             ],
             [
              0.1111111111111111,
              "#46039f"
             ],
             [
              0.2222222222222222,
              "#7201a8"
             ],
             [
              0.3333333333333333,
              "#9c179e"
             ],
             [
              0.4444444444444444,
              "#bd3786"
             ],
             [
              0.5555555555555556,
              "#d8576b"
             ],
             [
              0.6666666666666666,
              "#ed7953"
             ],
             [
              0.7777777777777778,
              "#fb9f3a"
             ],
             [
              0.8888888888888888,
              "#fdca26"
             ],
             [
              1,
              "#f0f921"
             ]
            ],
            "type": "contour"
           }
          ],
          "contourcarpet": [
           {
            "colorbar": {
             "outlinewidth": 0,
             "ticks": ""
            },
            "type": "contourcarpet"
           }
          ],
          "heatmap": [
           {
            "colorbar": {
             "outlinewidth": 0,
             "ticks": ""
            },
            "colorscale": [
             [
              0,
              "#0d0887"
             ],
             [
              0.1111111111111111,
              "#46039f"
             ],
             [
              0.2222222222222222,
              "#7201a8"
             ],
             [
              0.3333333333333333,
              "#9c179e"
             ],
             [
              0.4444444444444444,
              "#bd3786"
             ],
             [
              0.5555555555555556,
              "#d8576b"
             ],
             [
              0.6666666666666666,
              "#ed7953"
             ],
             [
              0.7777777777777778,
              "#fb9f3a"
             ],
             [
              0.8888888888888888,
              "#fdca26"
             ],
             [
              1,
              "#f0f921"
             ]
            ],
            "type": "heatmap"
           }
          ],
          "heatmapgl": [
           {
            "colorbar": {
             "outlinewidth": 0,
             "ticks": ""
            },
            "colorscale": [
             [
              0,
              "#0d0887"
             ],
             [
              0.1111111111111111,
              "#46039f"
             ],
             [
              0.2222222222222222,
              "#7201a8"
             ],
             [
              0.3333333333333333,
              "#9c179e"
             ],
             [
              0.4444444444444444,
              "#bd3786"
             ],
             [
              0.5555555555555556,
              "#d8576b"
             ],
             [
              0.6666666666666666,
              "#ed7953"
             ],
             [
              0.7777777777777778,
              "#fb9f3a"
             ],
             [
              0.8888888888888888,
              "#fdca26"
             ],
             [
              1,
              "#f0f921"
             ]
            ],
            "type": "heatmapgl"
           }
          ],
          "histogram": [
           {
            "marker": {
             "pattern": {
              "fillmode": "overlay",
              "size": 10,
              "solidity": 0.2
             }
            },
            "type": "histogram"
           }
          ],
          "histogram2d": [
           {
            "colorbar": {
             "outlinewidth": 0,
             "ticks": ""
            },
            "colorscale": [
             [
              0,
              "#0d0887"
             ],
             [
              0.1111111111111111,
              "#46039f"
             ],
             [
              0.2222222222222222,
              "#7201a8"
             ],
             [
              0.3333333333333333,
              "#9c179e"
             ],
             [
              0.4444444444444444,
              "#bd3786"
             ],
             [
              0.5555555555555556,
              "#d8576b"
             ],
             [
              0.6666666666666666,
              "#ed7953"
             ],
             [
              0.7777777777777778,
              "#fb9f3a"
             ],
             [
              0.8888888888888888,
              "#fdca26"
             ],
             [
              1,
              "#f0f921"
             ]
            ],
            "type": "histogram2d"
           }
          ],
          "histogram2dcontour": [
           {
            "colorbar": {
             "outlinewidth": 0,
             "ticks": ""
            },
            "colorscale": [
             [
              0,
              "#0d0887"
             ],
             [
              0.1111111111111111,
              "#46039f"
             ],
             [
              0.2222222222222222,
              "#7201a8"
             ],
             [
              0.3333333333333333,
              "#9c179e"
             ],
             [
              0.4444444444444444,
              "#bd3786"
             ],
             [
              0.5555555555555556,
              "#d8576b"
             ],
             [
              0.6666666666666666,
              "#ed7953"
             ],
             [
              0.7777777777777778,
              "#fb9f3a"
             ],
             [
              0.8888888888888888,
              "#fdca26"
             ],
             [
              1,
              "#f0f921"
             ]
            ],
            "type": "histogram2dcontour"
           }
          ],
          "mesh3d": [
           {
            "colorbar": {
             "outlinewidth": 0,
             "ticks": ""
            },
            "type": "mesh3d"
           }
          ],
          "parcoords": [
           {
            "line": {
             "colorbar": {
              "outlinewidth": 0,
              "ticks": ""
             }
            },
            "type": "parcoords"
           }
          ],
          "pie": [
           {
            "automargin": true,
            "type": "pie"
           }
          ],
          "scatter": [
           {
            "fillpattern": {
             "fillmode": "overlay",
             "size": 10,
             "solidity": 0.2
            },
            "type": "scatter"
           }
          ],
          "scatter3d": [
           {
            "line": {
             "colorbar": {
              "outlinewidth": 0,
              "ticks": ""
             }
            },
            "marker": {
             "colorbar": {
              "outlinewidth": 0,
              "ticks": ""
             }
            },
            "type": "scatter3d"
           }
          ],
          "scattercarpet": [
           {
            "marker": {
             "colorbar": {
              "outlinewidth": 0,
              "ticks": ""
             }
            },
            "type": "scattercarpet"
           }
          ],
          "scattergeo": [
           {
            "marker": {
             "colorbar": {
              "outlinewidth": 0,
              "ticks": ""
             }
            },
            "type": "scattergeo"
           }
          ],
          "scattergl": [
           {
            "marker": {
             "colorbar": {
              "outlinewidth": 0,
              "ticks": ""
             }
            },
            "type": "scattergl"
           }
          ],
          "scattermapbox": [
           {
            "marker": {
             "colorbar": {
              "outlinewidth": 0,
              "ticks": ""
             }
            },
            "type": "scattermapbox"
           }
          ],
          "scatterpolar": [
           {
            "marker": {
             "colorbar": {
              "outlinewidth": 0,
              "ticks": ""
             }
            },
            "type": "scatterpolar"
           }
          ],
          "scatterpolargl": [
           {
            "marker": {
             "colorbar": {
              "outlinewidth": 0,
              "ticks": ""
             }
            },
            "type": "scatterpolargl"
           }
          ],
          "scatterternary": [
           {
            "marker": {
             "colorbar": {
              "outlinewidth": 0,
              "ticks": ""
             }
            },
            "type": "scatterternary"
           }
          ],
          "surface": [
           {
            "colorbar": {
             "outlinewidth": 0,
             "ticks": ""
            },
            "colorscale": [
             [
              0,
              "#0d0887"
             ],
             [
              0.1111111111111111,
              "#46039f"
             ],
             [
              0.2222222222222222,
              "#7201a8"
             ],
             [
              0.3333333333333333,
              "#9c179e"
             ],
             [
              0.4444444444444444,
              "#bd3786"
             ],
             [
              0.5555555555555556,
              "#d8576b"
             ],
             [
              0.6666666666666666,
              "#ed7953"
             ],
             [
              0.7777777777777778,
              "#fb9f3a"
             ],
             [
              0.8888888888888888,
              "#fdca26"
             ],
             [
              1,
              "#f0f921"
             ]
            ],
            "type": "surface"
           }
          ],
          "table": [
           {
            "cells": {
             "fill": {
              "color": "#EBF0F8"
             },
             "line": {
              "color": "white"
             }
            },
            "header": {
             "fill": {
              "color": "#C8D4E3"
             },
             "line": {
              "color": "white"
             }
            },
            "type": "table"
           }
          ]
         },
         "layout": {
          "annotationdefaults": {
           "arrowcolor": "#2a3f5f",
           "arrowhead": 0,
           "arrowwidth": 1
          },
          "autotypenumbers": "strict",
          "coloraxis": {
           "colorbar": {
            "outlinewidth": 0,
            "ticks": ""
           }
          },
          "colorscale": {
           "diverging": [
            [
             0,
             "#8e0152"
            ],
            [
             0.1,
             "#c51b7d"
            ],
            [
             0.2,
             "#de77ae"
            ],
            [
             0.3,
             "#f1b6da"
            ],
            [
             0.4,
             "#fde0ef"
            ],
            [
             0.5,
             "#f7f7f7"
            ],
            [
             0.6,
             "#e6f5d0"
            ],
            [
             0.7,
             "#b8e186"
            ],
            [
             0.8,
             "#7fbc41"
            ],
            [
             0.9,
             "#4d9221"
            ],
            [
             1,
             "#276419"
            ]
           ],
           "sequential": [
            [
             0,
             "#0d0887"
            ],
            [
             0.1111111111111111,
             "#46039f"
            ],
            [
             0.2222222222222222,
             "#7201a8"
            ],
            [
             0.3333333333333333,
             "#9c179e"
            ],
            [
             0.4444444444444444,
             "#bd3786"
            ],
            [
             0.5555555555555556,
             "#d8576b"
            ],
            [
             0.6666666666666666,
             "#ed7953"
            ],
            [
             0.7777777777777778,
             "#fb9f3a"
            ],
            [
             0.8888888888888888,
             "#fdca26"
            ],
            [
             1,
             "#f0f921"
            ]
           ],
           "sequentialminus": [
            [
             0,
             "#0d0887"
            ],
            [
             0.1111111111111111,
             "#46039f"
            ],
            [
             0.2222222222222222,
             "#7201a8"
            ],
            [
             0.3333333333333333,
             "#9c179e"
            ],
            [
             0.4444444444444444,
             "#bd3786"
            ],
            [
             0.5555555555555556,
             "#d8576b"
            ],
            [
             0.6666666666666666,
             "#ed7953"
            ],
            [
             0.7777777777777778,
             "#fb9f3a"
            ],
            [
             0.8888888888888888,
             "#fdca26"
            ],
            [
             1,
             "#f0f921"
            ]
           ]
          },
          "colorway": [
           "#636efa",
           "#EF553B",
           "#00cc96",
           "#ab63fa",
           "#FFA15A",
           "#19d3f3",
           "#FF6692",
           "#B6E880",
           "#FF97FF",
           "#FECB52"
          ],
          "font": {
           "color": "#2a3f5f"
          },
          "geo": {
           "bgcolor": "white",
           "lakecolor": "white",
           "landcolor": "#E5ECF6",
           "showlakes": true,
           "showland": true,
           "subunitcolor": "white"
          },
          "hoverlabel": {
           "align": "left"
          },
          "hovermode": "closest",
          "mapbox": {
           "style": "light"
          },
          "paper_bgcolor": "white",
          "plot_bgcolor": "#E5ECF6",
          "polar": {
           "angularaxis": {
            "gridcolor": "white",
            "linecolor": "white",
            "ticks": ""
           },
           "bgcolor": "#E5ECF6",
           "radialaxis": {
            "gridcolor": "white",
            "linecolor": "white",
            "ticks": ""
           }
          },
          "scene": {
           "xaxis": {
            "backgroundcolor": "#E5ECF6",
            "gridcolor": "white",
            "gridwidth": 2,
            "linecolor": "white",
            "showbackground": true,
            "ticks": "",
            "zerolinecolor": "white"
           },
           "yaxis": {
            "backgroundcolor": "#E5ECF6",
            "gridcolor": "white",
            "gridwidth": 2,
            "linecolor": "white",
            "showbackground": true,
            "ticks": "",
            "zerolinecolor": "white"
           },
           "zaxis": {
            "backgroundcolor": "#E5ECF6",
            "gridcolor": "white",
            "gridwidth": 2,
            "linecolor": "white",
            "showbackground": true,
            "ticks": "",
            "zerolinecolor": "white"
           }
          },
          "shapedefaults": {
           "line": {
            "color": "#2a3f5f"
           }
          },
          "ternary": {
           "aaxis": {
            "gridcolor": "white",
            "linecolor": "white",
            "ticks": ""
           },
           "baxis": {
            "gridcolor": "white",
            "linecolor": "white",
            "ticks": ""
           },
           "bgcolor": "#E5ECF6",
           "caxis": {
            "gridcolor": "white",
            "linecolor": "white",
            "ticks": ""
           }
          },
          "title": {
           "x": 0.05
          },
          "xaxis": {
           "automargin": true,
           "gridcolor": "white",
           "linecolor": "white",
           "ticks": "",
           "title": {
            "standoff": 15
           },
           "zerolinecolor": "white",
           "zerolinewidth": 2
          },
          "yaxis": {
           "automargin": true,
           "gridcolor": "white",
           "linecolor": "white",
           "ticks": "",
           "title": {
            "standoff": 15
           },
           "zerolinecolor": "white",
           "zerolinewidth": 2
          }
         }
        },
        "title": {
         "text": "Top 15 Movies with Highest Budget and Their Average Ratings"
        },
        "xaxis": {
         "anchor": "y",
         "domain": [
          0,
          1
         ],
         "tickformat": ".1f",
         "title": {
          "text": "Average Rating"
         }
        },
        "yaxis": {
         "anchor": "x",
         "domain": [
          0,
          1
         ],
         "title": {
          "text": "Movie Title"
         }
        }
       }
      }
     },
     "metadata": {},
     "output_type": "display_data"
    }
   ],
   "source": [
    "import plotly.express as px\n",
    "\n",
    "# Plotting with Plotly\n",
    "fig = px.bar(hypothesis_3_df, \n",
    "             x='average_rating',  # Inverted: average rating on x-axis\n",
    "             y='title',           # Movies titles on y-axis\n",
    "             text='budget',       # Show budget as text annotations\n",
    "             title='Top 15 Movies with Highest Budget and Their Average Ratings',\n",
    "             labels={'average_rating': 'Average Rating', 'title': 'Movie Title', 'budget': 'Budget (in USD)'},\n",
    "             height=600,\n",
    "             orientation='h')     # Horizontal bar plot\n",
    "\n",
    "# Format x-axis as one decimal place for average rating\n",
    "fig.update_layout(xaxis_tickformat='.1f')\n",
    "\n",
    "# Add annotations for budget on each bar\n",
    "fig.update_traces(texttemplate='$%{text:.2s}', textposition='outside')\n",
    "\n",
    "# Show plot\n",
    "fig.show()"
   ]
  },
  {
   "cell_type": "markdown",
   "metadata": {},
   "source": [
    "- These are the top15 movies with the biggest budget according to our database. Even though they have a lot of budget it doesn't mean that they have great reviews."
   ]
  }
 ],
 "metadata": {
  "kernelspec": {
   "display_name": "base",
   "language": "python",
   "name": "python3"
  },
  "language_info": {
   "codemirror_mode": {
    "name": "ipython",
    "version": 3
   },
   "file_extension": ".py",
   "mimetype": "text/x-python",
   "name": "python",
   "nbconvert_exporter": "python",
   "pygments_lexer": "ipython3",
   "version": "3.11.7"
  }
 },
 "nbformat": 4,
 "nbformat_minor": 2
}
