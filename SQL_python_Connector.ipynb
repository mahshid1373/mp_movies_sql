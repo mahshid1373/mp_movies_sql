{
 "cells": [
  {
   "cell_type": "markdown",
   "metadata": {},
   "source": [
    "# Adding SQL Scrpit "
   ]
  },
  {
   "cell_type": "code",
   "execution_count": 27,
   "metadata": {},
   "outputs": [],
   "source": [
    "import pandas as pd\n",
    "from sqlalchemy import create_engine, text\n",
    "import plotly.io as pio\n",
    "import plotly.express as px\n",
    "import matplotlib.pyplot as plt\n",
    "import seaborn as sns\n",
    "import plotly.graph_objects as go\n",
    "from scipy.stats import pearsonr\n",
    "import numpy as np"
   ]
  },
  {
   "cell_type": "code",
   "execution_count": 2,
   "metadata": {},
   "outputs": [],
   "source": [
    "user = \"root\"\n",
    "password = \"1234abcd\" # Jose You should change this to your password\n",
    "host = \"127.0.0.1\"\n",
    "port = \"3306\"\n",
    "db = \"mydb\" # Jose You should change this to your database name\n",
    "\n",
    "engine = create_engine(f'mysql+mysqlconnector://{user}:{password}@{host}:{port}/{db}')"
   ]
  },
  {
   "cell_type": "markdown",
   "metadata": {},
   "source": [
    "# 8. **Rating Trends Over Time**:\n",
    "   ### Hypothesis: The average rating given by users has changed over time, potentially increasing or decreasing due to changes in user expectations and movie quality."
   ]
  },
  {
   "cell_type": "markdown",
   "metadata": {},
   "source": [
    "The SQL query is designed to calculate the average rating given by users for each year. It does this by extracting the year from a timestamp and then computing the average rating for that year. The results are then ordered by year."
   ]
  },
  {
   "cell_type": "code",
   "execution_count": 3,
   "metadata": {},
   "outputs": [],
   "source": [
    "query = \"\"\"\n",
    "SELECT\n",
    "    YEAR(FROM_UNIXTIME(ratings_small.timestamp)) AS year,\n",
    "    AVG(ratings_small.rating) AS average_rating\n",
    "FROM\n",
    "    ratings_small\n",
    "GROUP BY\n",
    "    YEAR(FROM_UNIXTIME(ratings_small.timestamp))\n",
    "ORDER BY\n",
    "    year;\n",
    "\"\"\"\n"
   ]
  },
  {
   "cell_type": "markdown",
   "metadata": {},
   "source": [
    "- Create a Connection: Establishes a connection to the database.\n",
    "- Execute the Query and Read the Result: Executes an SQL query and reads the results into a pandas DataFrame.\n",
    "- Print the Result: Outputs the first few rows of the DataFrame for inspection.\n",
    "- Close the Connection: Terminates the connection to the database to free up resources."
   ]
  },
  {
   "cell_type": "code",
   "execution_count": 5,
   "metadata": {},
   "outputs": [
    {
     "name": "stdout",
     "output_type": "stream",
     "text": [
      "   year  average_rating\n",
      "0  1996         3.80769\n",
      "1  1997         3.76190\n",
      "2  1998         3.66667\n",
      "3  1999         4.02500\n",
      "4  2000         3.79452\n"
     ]
    }
   ],
   "source": [
    "# create a connection\n",
    "connection = engine.connect()\n",
    "\n",
    "# execute the query and read the result\n",
    "hypothesis_1_df = pd.read_sql(text(query), connection)\n",
    "# print the result\n",
    "print(hypothesis_1_df.head())\n",
    "\n",
    "# close the connection\n",
    "connection.close()"
   ]
  },
  {
   "cell_type": "code",
   "execution_count": 11,
   "metadata": {},
   "outputs": [
    {
     "data": {
      "application/vnd.plotly.v1+json": {
       "config": {
        "plotlyServerURL": "https://plot.ly"
       },
       "data": [
        {
         "mode": "markers",
         "type": "scatter",
         "x": [
          1996,
          1997,
          1998,
          1999,
          2000,
          2001,
          2002,
          2003,
          2004,
          2005,
          2006,
          2007,
          2008,
          2009,
          2010,
          2011,
          2012,
          2013,
          2014,
          2015,
          2016
         ],
         "y": [
          3.80769,
          3.7619,
          3.66667,
          4.025,
          3.79452,
          4.03704,
          3.6875,
          3.70455,
          3.69444,
          3.9125,
          3.83929,
          3.8125,
          3.54545,
          3.54348,
          3.5,
          3.81818,
          3.75,
          4.3,
          3.84375,
          3.89091,
          3.68182
         ]
        }
       ],
       "layout": {
        "title": "Year vs Average rating",
        "xaxis": {
         "range": [
          1995,
          2016
         ],
         "title": "Year"
        },
        "yaxis": {
         "range": [
          0,
          5
         ],
         "title": "Average rating"
        }
       }
      }
     },
     "metadata": {},
     "output_type": "display_data"
    }
   ],
   "source": [
    "subject = hypothesis_1_df['year']\n",
    "score = hypothesis_1_df['average_rating']\n",
    "\n",
    "data = [dict(\n",
    "  type = 'scatter',\n",
    "  x = subject,\n",
    "  y = score,\n",
    "  mode = 'markers'\n",
    ")]\n",
    "\n",
    "layout = dict(\n",
    "    title = 'Year vs Average rating',\n",
    "    xaxis = dict(\n",
    "        title = 'Year',\n",
    "        range = [1995, 2016]\n",
    "                 ),\n",
    "    yaxis = dict(\n",
    "        title = 'Average rating',\n",
    "        range = [0, 5]\n",
    "        )\n",
    ")\n",
    "\n",
    "fig_dict = dict(data=data, layout=layout)\n",
    "\n",
    "pio.show(fig_dict, validate=False)"
   ]
  },
  {
   "cell_type": "markdown",
   "metadata": {},
   "source": [
    "# 10. **Movie Popularity and Rating**:\n",
    "###    Hypothesis: Movies with higher vote counts tend to have higher average ratings."
   ]
  },
  {
   "cell_type": "code",
   "execution_count": 12,
   "metadata": {},
   "outputs": [],
   "source": [
    "query = \"\"\"\n",
    "SELECT\n",
    "    id AS movie_id,\n",
    "    AVG(vote_average) AS average_rating,\n",
    "    vote_count\n",
    "FROM\n",
    "    movies_metadata\n",
    "GROUP BY\n",
    "    id\n",
    "ORDER BY\n",
    "    vote_count DESC;\n",
    "\"\"\"\n"
   ]
  },
  {
   "cell_type": "markdown",
   "metadata": {},
   "source": [
    "- Create a Connection: Establishes a connection to the database.\n",
    "- Execute the Query and Read the Result: Executes an SQL query and reads the results into a pandas DataFrame.\n",
    "- Print the Result: Outputs the first few rows of the DataFrame for inspection.\n",
    "- Close the Connection: Terminates the connection to the database to free up resources."
   ]
  },
  {
   "cell_type": "code",
   "execution_count": 14,
   "metadata": {},
   "outputs": [
    {
     "name": "stdout",
     "output_type": "stream",
     "text": [
      "   movie_id  average_rating  vote_count\n",
      "0        13             8.2        8147\n",
      "1       862             7.7        5415\n",
      "2       329             7.6        4956\n",
      "3        78             7.9        3833\n",
      "4      9479             7.6        2135\n"
     ]
    }
   ],
   "source": [
    "# create a connection\n",
    "connection = engine.connect()\n",
    "\n",
    "# execute the query and read the result\n",
    "hypothesis_2_df = pd.read_sql(text(query), connection)\n",
    "# print the result\n",
    "print(hypothesis_2_df.head())\n",
    "\n",
    "# close the connection\n",
    "connection.close()"
   ]
  },
  {
   "cell_type": "code",
   "execution_count": 16,
   "metadata": {},
   "outputs": [
    {
     "data": {
      "image/png": "[encoded data removed]",
      "text/plain": [
       "<Figure size 1200x800 with 1 Axes>"
      ]
     },
     "metadata": {},
     "output_type": "display_data"
    }
   ],
   "source": [
    "plt.figure(figsize=(12, 8))\n",
    "sns.scatterplot(x='vote_count', y='average_rating', data=hypothesis_2_df, alpha=0.6)\n",
    "sns.regplot(x='vote_count', y='average_rating', data=hypothesis_2_df, scatter=False, color='red')\n",
    "plt.title('Relationship Between Vote Count and Average Rating')\n",
    "plt.xlabel('Vote Count')\n",
    "plt.ylabel('Average Rating')\n",
    "plt.grid(True)\n",
    "plt.show()"
   ]
  },
  {
   "cell_type": "code",
   "execution_count": 24,
   "metadata": {},
   "outputs": [
    {
     "data": {
      "application/vnd.plotly.v1+json": {
       "config": {
        "plotlyServerURL": "https://plot.ly"
       },
       "data": [
        {
         "hovertemplate": "Vote Count=%{x}<br>Average Rating=%{y}<extra></extra>",
         "legendgroup": "",
         "marker": {
          "color": "#636efa",
          "symbol": "circle"
         },
         "mode": "markers",
         "name": "",
         "orientation": "v",
         "showlegend": false,
         "type": "scatter",
         "x": [
          8147,
          5415,
          4956,
          3833,
          2135,
          1343,
          1128,
          1103,
          980,
          892,
          828,
          805,
          762,
          725,
          695,
          632,
          600,
          591,
          559,
          539,
          482,
          433,
          423,
          397,
          394,
          388,
          372,
          364,
          350,
          305,
          291,
          287,
          285,
          263,
          245,
          236,
          232,
          228,
          224,
          223,
          219,
          217,
          210,
          201,
          199,
          199,
          183,
          178,
          174,
          173,
          172,
          171,
          169,
          168,
          163,
          158,
          152,
          149,
          144,
          143,
          137,
          131,
          119,
          117,
          114,
          111,
          104,
          103,
          98,
          97,
          92,
          87,
          86,
          85,
          85,
          83,
          83,
          82,
          81,
          73,
          72,
          69,
          67,
          62,
          59,
          57,
          55,
          54,
          53,
          52,
          51,
          49,
          45,
          42,
          42,
          40,
          38,
          36,
          35,
          35,
          34,
          34,
          33,
          31,
          31,
          30,
          29,
          29,
          29,
          27,
          27,
          26,
          25,
          25,
          25,
          24,
          23,
          21,
          19,
          19,
          18,
          17,
          17,
          16,
          15,
          14,
          13,
          13,
          13,
          11,
          11,
          11,
          11,
          10,
          10,
          9,
          9,
          9,
          9,
          9,
          8,
          8,
          8,
          8,
          7,
          6,
          6,
          6,
          6,
          6,
          5,
          5,
          5,
          4,
          4,
          4,
          4,
          2,
          2,
          2,
          2,
          2,
          1,
          1,
          1,
          1,
          1,
          0,
          0,
          0,
          0
         ],
         "xaxis": "x",
         "y": [
          8.2,
          7.7,
          7.6,
          7.9,
          7.6,
          7.8,
          6.1,
          8,
          7.3,
          6.9,
          6.9,
          7.7,
          7.5,
          6.1,
          7.9,
          7.4,
          6.1,
          7.5,
          5,
          6.5,
          6.4,
          7.1,
          7.1,
          7.2,
          6,
          6.3,
          6.5,
          7.2,
          7.3,
          6.4,
          5.3,
          6.4,
          6.8,
          6.2,
          7.9,
          4,
          7.4,
          4.8,
          5.4,
          5.4,
          6.2,
          7.4,
          5.7,
          7.6,
          6.5,
          6.5,
          7.1,
          6.2,
          5.5,
          7.6,
          6.5,
          7.5,
          7.5,
          7.6,
          7.5,
          5.5,
          6.7,
          6.1,
          4.9,
          6.3,
          5.7,
          6.1,
          7.7,
          5.4,
          6.6,
          6.1,
          5.3,
          4.9,
          6.8,
          7.4,
          6.4,
          5,
          5.3,
          6.5,
          5.3,
          5.7,
          6.4,
          5,
          5.6,
          5.9,
          7.1,
          7.7,
          6,
          7.4,
          7.3,
          6.3,
          5,
          6.1,
          6.1,
          7.3,
          5.4,
          6.4,
          6.8,
          6.8,
          5.8,
          5.7,
          5.1,
          5,
          6.6,
          4.9,
          4,
          6.1,
          6.4,
          6.2,
          6.7,
          6.3,
          5.1,
          6.2,
          6.1,
          6.6,
          6.6,
          6.4,
          6.5,
          6.7,
          5.7,
          5.1,
          6.4,
          7,
          7.3,
          6.7,
          6.1,
          5,
          6.2,
          4.9,
          6.5,
          5.2,
          6.6,
          6.7,
          5.6,
          6,
          7.4,
          4.9,
          4.4,
          7.2,
          6,
          5.2,
          7.4,
          5.6,
          5.4,
          5.1,
          5.6,
          7.4,
          5,
          5.4,
          5,
          6.8,
          5.8,
          5.7,
          4.8,
          6.5,
          5.5,
          6.5,
          5.5,
          6.3,
          4,
          6.3,
          8.3,
          3.8,
          5.3,
          3.5,
          6.5,
          6,
          6,
          10,
          4,
          6,
          0,
          0,
          0,
          0,
          0
         ],
         "yaxis": "y"
        },
        {
         "hovertemplate": "<b>OLS trendline</b><br>average_rating = 0.000434347 * vote_count + 5.95415<br>R<sup>2</sup>=0.071504<br><br>Vote Count=%{x}<br>Average Rating=%{y} <b>(trend)</b><extra></extra>",
         "legendgroup": "",
         "line": {
          "color": "red"
         },
         "marker": {
          "color": "#636efa",
          "symbol": "circle"
         },
         "mode": "lines",
         "name": "",
         "showlegend": false,
         "type": "scatter",
         "x": [
          0,
          0,
          0,
          0,
          1,
          1,
          1,
          1,
          1,
          2,
          2,
          2,
          2,
          2,
          4,
          4,
          4,
          4,
          5,
          5,
          5,
          6,
          6,
          6,
          6,
          6,
          7,
          8,
          8,
          8,
          8,
          9,
          9,
          9,
          9,
          9,
          10,
          10,
          11,
          11,
          11,
          11,
          13,
          13,
          13,
          14,
          15,
          16,
          17,
          17,
          18,
          19,
          19,
          21,
          23,
          24,
          25,
          25,
          25,
          26,
          27,
          27,
          29,
          29,
          29,
          30,
          31,
          31,
          33,
          34,
          34,
          35,
          35,
          36,
          38,
          40,
          42,
          42,
          45,
          49,
          51,
          52,
          53,
          54,
          55,
          57,
          59,
          62,
          67,
          69,
          72,
          73,
          81,
          82,
          83,
          83,
          85,
          85,
          86,
          87,
          92,
          97,
          98,
          103,
          104,
          111,
          114,
          117,
          119,
          131,
          137,
          143,
          144,
          149,
          152,
          158,
          163,
          168,
          169,
          171,
          172,
          173,
          174,
          178,
          183,
          199,
          199,
          201,
          210,
          217,
          219,
          223,
          224,
          228,
          232,
          236,
          245,
          263,
          285,
          287,
          291,
          305,
          350,
          364,
          372,
          388,
          394,
          397,
          423,
          433,
          482,
          539,
          559,
          591,
          600,
          632,
          695,
          725,
          762,
          805,
          828,
          892,
          980,
          1103,
          1128,
          1343,
          2135,
          3833,
          4956,
          5415,
          8147
         ],
         "xaxis": "x",
         "y": [
          5.954148522945928,
          5.954148522945928,
          5.954148522945928,
          5.954148522945928,
          5.954582869910656,
          5.954582869910656,
          5.954582869910656,
          5.954582869910656,
          5.954582869910656,
          5.955017216875383,
          5.955017216875383,
          5.955017216875383,
          5.955017216875383,
          5.955017216875383,
          5.955885910804838,
          5.955885910804838,
          5.955885910804838,
          5.955885910804838,
          5.9563202577695655,
          5.9563202577695655,
          5.9563202577695655,
          5.956754604734294,
          5.956754604734294,
          5.956754604734294,
          5.956754604734294,
          5.956754604734294,
          5.957188951699021,
          5.957623298663749,
          5.957623298663749,
          5.957623298663749,
          5.957623298663749,
          5.958057645628476,
          5.958057645628476,
          5.958057645628476,
          5.958057645628476,
          5.958057645628476,
          5.958491992593204,
          5.958491992593204,
          5.958926339557931,
          5.958926339557931,
          5.958926339557931,
          5.958926339557931,
          5.959795033487386,
          5.959795033487386,
          5.959795033487386,
          5.960229380452113,
          5.960663727416841,
          5.961098074381569,
          5.961532421346297,
          5.961532421346297,
          5.961966768311024,
          5.9624011152757515,
          5.9624011152757515,
          5.963269809205206,
          5.964138503134661,
          5.964572850099389,
          5.965007197064116,
          5.965007197064116,
          5.965007197064116,
          5.965441544028844,
          5.965875890993572,
          5.965875890993572,
          5.966744584923027,
          5.966744584923027,
          5.966744584923027,
          5.967178931887754,
          5.967613278852482,
          5.967613278852482,
          5.9684819727819365,
          5.968916319746664,
          5.968916319746664,
          5.969350666711391,
          5.969350666711391,
          5.96978501367612,
          5.970653707605575,
          5.9715224015350294,
          5.972391095464484,
          5.972391095464484,
          5.973694136358667,
          5.975431524217577,
          5.976300218147032,
          5.97673456511176,
          5.977168912076487,
          5.9776032590412145,
          5.978037606005942,
          5.978906299935398,
          5.979774993864853,
          5.981078034759035,
          5.983249769582673,
          5.984118463512128,
          5.98542150440631,
          5.985855851371038,
          5.989330627088858,
          5.989764974053585,
          5.990199321018313,
          5.990199321018313,
          5.991068014947768,
          5.991068014947768,
          5.991502361912495,
          5.9919367088772235,
          5.994108443700861,
          5.996280178524498,
          5.996714525489226,
          5.998886260312863,
          5.999320607277591,
          6.002361036030684,
          6.003664076924866,
          6.0049671178190485,
          6.005835811748504,
          6.011047975325234,
          6.013654057113599,
          6.0162601389019645,
          6.016694485866692,
          6.01886622069033,
          6.020169261584512,
          6.022775343372877,
          6.024947078196515,
          6.027118813020152,
          6.027553159984881,
          6.0284218539143355,
          6.028856200879063,
          6.02929054784379,
          6.029724894808518,
          6.031462282667428,
          6.033634017491066,
          6.040583568926706,
          6.040583568926706,
          6.041452262856161,
          6.045361385538709,
          6.048401814291801,
          6.049270508221256,
          6.051007896080167,
          6.051442243044894,
          6.053179630903804,
          6.054917018762715,
          6.056654406621624,
          6.060563529304172,
          6.068381774669268,
          6.077937407893273,
          6.078806101822728,
          6.080543489681638,
          6.086624347187824,
          6.106169960600562,
          6.112250818106748,
          6.115725593824568,
          6.122675145260208,
          6.125281227048574,
          6.126584267942756,
          6.137877289025671,
          6.142220758672947,
          6.163503759944596,
          6.188261536934065,
          6.1969484762286156,
          6.210847579099896,
          6.214756701782444,
          6.228655804653725,
          6.256019663431559,
          6.269050072373385,
          6.285120910068303,
          6.303797829551587,
          6.31378780974032,
          6.341586015482881,
          6.379808548378904,
          6.433233225040389,
          6.444091899158577,
          6.537476496574995,
          6.881479292639196,
          7.619000438746535,
          8.106772080135547,
          8.306137336945481,
          9.492773244581082
         ],
         "yaxis": "y"
        }
       ],
       "layout": {
        "legend": {
         "tracegroupgap": 0
        },
        "template": {
         "data": {
          "bar": [
           {
            "error_x": {
             "color": "#2a3f5f"
            },
            "error_y": {
             "color": "#2a3f5f"
            },
            "marker": {
             "line": {
              "color": "#E5ECF6",
              "width": 0.5
             },
             "pattern": {
              "fillmode": "overlay",
              "size": 10,
              "solidity": 0.2
             }
            },
            "type": "bar"
           }
          ],
          "barpolar": [
           {
            "marker": {
             "line": {
              "color": "#E5ECF6",
              "width": 0.5
             },
             "pattern": {
              "fillmode": "overlay",
              "size": 10,
              "solidity": 0.2
             }
            },
            "type": "barpolar"
           }
          ],
          "carpet": [
           {
            "aaxis": {
             "endlinecolor": "#2a3f5f",
             "gridcolor": "white",
             "linecolor": "white",
             "minorgridcolor": "white",
             "startlinecolor": "#2a3f5f"
            },
            "baxis": {
             "endlinecolor": "#2a3f5f",
             "gridcolor": "white",
             "linecolor": "white",
             "minorgridcolor": "white",
             "startlinecolor": "#2a3f5f"
            },
            "type": "carpet"
           }
          ],
          "choropleth": [
           {
            "colorbar": {
             "outlinewidth": 0,
             "ticks": ""
            },
            "type": "choropleth"
           }
          ],
          "contour": [
           {
            "colorbar": {
             "outlinewidth": 0,
             "ticks": ""
            },
            "colorscale": [
             [
              0,
              "#0d0887"
             ],
             [
              0.1111111111111111,
              "#46039f"
             ],
             [
              0.2222222222222222,
              "#7201a8"
             ],
             [
              0.3333333333333333,
              "#9c179e"
             ],
             [
              0.4444444444444444,
              "#bd3786"
             ],
             [
              0.5555555555555556,
              "#d8576b"
             ],
             [
              0.6666666666666666,
              "#ed7953"
             ],
             [
              0.7777777777777778,
              "#fb9f3a"
             ],
             [
              0.8888888888888888,
              "#fdca26"
             ],
             [
              1,
              "#f0f921"
             ]
            ],
            "type": "contour"
           }
          ],
          "contourcarpet": [
           {
            "colorbar": {
             "outlinewidth": 0,
             "ticks": ""
            },
            "type": "contourcarpet"
           }
          ],
          "heatmap": [
           {
            "colorbar": {
             "outlinewidth": 0,
             "ticks": ""
            },
            "colorscale": [
             [
              0,
              "#0d0887"
             ],
             [
              0.1111111111111111,
              "#46039f"
             ],
             [
              0.2222222222222222,
              "#7201a8"
             ],
             [
              0.3333333333333333,
              "#9c179e"
             ],
             [
              0.4444444444444444,
              "#bd3786"
             ],
             [
              0.5555555555555556,
              "#d8576b"
             ],
             [
              0.6666666666666666,
              "#ed7953"
             ],
             [
              0.7777777777777778,
              "#fb9f3a"
             ],
             [
              0.8888888888888888,
              "#fdca26"
             ],
             [
              1,
              "#f0f921"
             ]
            ],
            "type": "heatmap"
           }
          ],
          "heatmapgl": [
           {
            "colorbar": {
             "outlinewidth": 0,
             "ticks": ""
            },
            "colorscale": [
             [
              0,
              "#0d0887"
             ],
             [
              0.1111111111111111,
              "#46039f"
             ],
             [
              0.2222222222222222,
              "#7201a8"
             ],
             [
              0.3333333333333333,
              "#9c179e"
             ],
             [
              0.4444444444444444,
              "#bd3786"
             ],
             [
              0.5555555555555556,
              "#d8576b"
             ],
             [
              0.6666666666666666,
              "#ed7953"
             ],
             [
              0.7777777777777778,
              "#fb9f3a"
             ],
             [
              0.8888888888888888,
              "#fdca26"
             ],
             [
              1,
              "#f0f921"
             ]
            ],
            "type": "heatmapgl"
           }
          ],
          "histogram": [
           {
            "marker": {
             "pattern": {
              "fillmode": "overlay",
              "size": 10,
              "solidity": 0.2
             }
            },
            "type": "histogram"
           }
          ],
          "histogram2d": [
           {
            "colorbar": {
             "outlinewidth": 0,
             "ticks": ""
            },
            "colorscale": [
             [
              0,
              "#0d0887"
             ],
             [
              0.1111111111111111,
              "#46039f"
             ],
             [
              0.2222222222222222,
              "#7201a8"
             ],
             [
              0.3333333333333333,
              "#9c179e"
             ],
             [
              0.4444444444444444,
              "#bd3786"
             ],
             [
              0.5555555555555556,
              "#d8576b"
             ],
             [
              0.6666666666666666,
              "#ed7953"
             ],
             [
              0.7777777777777778,
              "#fb9f3a"
             ],
             [
              0.8888888888888888,
              "#fdca26"
             ],
             [
              1,
              "#f0f921"
             ]
            ],
            "type": "histogram2d"
           }
          ],
          "histogram2dcontour": [
           {
            "colorbar": {
             "outlinewidth": 0,
             "ticks": ""
            },
            "colorscale": [
             [
              0,
              "#0d0887"
             ],
             [
              0.1111111111111111,
              "#46039f"
             ],
             [
              0.2222222222222222,
              "#7201a8"
             ],
             [
              0.3333333333333333,
              "#9c179e"
             ],
             [
              0.4444444444444444,
              "#bd3786"
             ],
             [
              0.5555555555555556,
              "#d8576b"
             ],
             [
              0.6666666666666666,
              "#ed7953"
             ],
             [
              0.7777777777777778,
              "#fb9f3a"
             ],
             [
              0.8888888888888888,
              "#fdca26"
             ],
             [
              1,
              "#f0f921"
             ]
            ],
            "type": "histogram2dcontour"
           }
          ],
          "mesh3d": [
           {
            "colorbar": {
             "outlinewidth": 0,
             "ticks": ""
            },
            "type": "mesh3d"
           }
          ],
          "parcoords": [
           {
            "line": {
             "colorbar": {
              "outlinewidth": 0,
              "ticks": ""
             }
            },
            "type": "parcoords"
           }
          ],
          "pie": [
           {
            "automargin": true,
            "type": "pie"
           }
          ],
          "scatter": [
           {
            "fillpattern": {
             "fillmode": "overlay",
             "size": 10,
             "solidity": 0.2
            },
            "type": "scatter"
           }
          ],
          "scatter3d": [
           {
            "line": {
             "colorbar": {
              "outlinewidth": 0,
              "ticks": ""
             }
            },
            "marker": {
             "colorbar": {
              "outlinewidth": 0,
              "ticks": ""
             }
            },
            "type": "scatter3d"
           }
          ],
          "scattercarpet": [
           {
            "marker": {
             "colorbar": {
              "outlinewidth": 0,
              "ticks": ""
             }
            },
            "type": "scattercarpet"
           }
          ],
          "scattergeo": [
           {
            "marker": {
             "colorbar": {
              "outlinewidth": 0,
              "ticks": ""
             }
            },
            "type": "scattergeo"
           }
          ],
          "scattergl": [
           {
            "marker": {
             "colorbar": {
              "outlinewidth": 0,
              "ticks": ""
             }
            },
            "type": "scattergl"
           }
          ],
          "scattermapbox": [
           {
            "marker": {
             "colorbar": {
              "outlinewidth": 0,
              "ticks": ""
             }
            },
            "type": "scattermapbox"
           }
          ],
          "scatterpolar": [
           {
            "marker": {
             "colorbar": {
              "outlinewidth": 0,
              "ticks": ""
             }
            },
            "type": "scatterpolar"
           }
          ],
          "scatterpolargl": [
           {
            "marker": {
             "colorbar": {
              "outlinewidth": 0,
              "ticks": ""
             }
            },
            "type": "scatterpolargl"
           }
          ],
          "scatterternary": [
           {
            "marker": {
             "colorbar": {
              "outlinewidth": 0,
              "ticks": ""
             }
            },
            "type": "scatterternary"
           }
          ],
          "surface": [
           {
            "colorbar": {
             "outlinewidth": 0,
             "ticks": ""
            },
            "colorscale": [
             [
              0,
              "#0d0887"
             ],
             [
              0.1111111111111111,
              "#46039f"
             ],
             [
              0.2222222222222222,
              "#7201a8"
             ],
             [
              0.3333333333333333,
              "#9c179e"
             ],
             [
              0.4444444444444444,
              "#bd3786"
             ],
             [
              0.5555555555555556,
              "#d8576b"
             ],
             [
              0.6666666666666666,
              "#ed7953"
             ],
             [
              0.7777777777777778,
              "#fb9f3a"
             ],
             [
              0.8888888888888888,
              "#fdca26"
             ],
             [
              1,
              "#f0f921"
             ]
            ],
            "type": "surface"
           }
          ],
          "table": [
           {
            "cells": {
             "fill": {
              "color": "#EBF0F8"
             },
             "line": {
              "color": "white"
             }
            },
            "header": {
             "fill": {
              "color": "#C8D4E3"
             },
             "line": {
              "color": "white"
             }
            },
            "type": "table"
           }
          ]
         },
         "layout": {
          "annotationdefaults": {
           "arrowcolor": "#2a3f5f",
           "arrowhead": 0,
           "arrowwidth": 1
          },
          "autotypenumbers": "strict",
          "coloraxis": {
           "colorbar": {
            "outlinewidth": 0,
            "ticks": ""
           }
          },
          "colorscale": {
           "diverging": [
            [
             0,
             "#8e0152"
            ],
            [
             0.1,
             "#c51b7d"
            ],
            [
             0.2,
             "#de77ae"
            ],
            [
             0.3,
             "#f1b6da"
            ],
            [
             0.4,
             "#fde0ef"
            ],
            [
             0.5,
             "#f7f7f7"
            ],
            [
             0.6,
             "#e6f5d0"
            ],
            [
             0.7,
             "#b8e186"
            ],
            [
             0.8,
             "#7fbc41"
            ],
            [
             0.9,
             "#4d9221"
            ],
            [
             1,
             "#276419"
            ]
           ],
           "sequential": [
            [
             0,
             "#0d0887"
            ],
            [
             0.1111111111111111,
             "#46039f"
            ],
            [
             0.2222222222222222,
             "#7201a8"
            ],
            [
             0.3333333333333333,
             "#9c179e"
            ],
            [
             0.4444444444444444,
             "#bd3786"
            ],
            [
             0.5555555555555556,
             "#d8576b"
            ],
            [
             0.6666666666666666,
             "#ed7953"
            ],
            [
             0.7777777777777778,
             "#fb9f3a"
            ],
            [
             0.8888888888888888,
             "#fdca26"
            ],
            [
             1,
             "#f0f921"
            ]
           ],
           "sequentialminus": [
            [
             0,
             "#0d0887"
            ],
            [
             0.1111111111111111,
             "#46039f"
            ],
            [
             0.2222222222222222,
             "#7201a8"
            ],
            [
             0.3333333333333333,
             "#9c179e"
            ],
            [
             0.4444444444444444,
             "#bd3786"
            ],
            [
             0.5555555555555556,
             "#d8576b"
            ],
            [
             0.6666666666666666,
             "#ed7953"
            ],
            [
             0.7777777777777778,
             "#fb9f3a"
            ],
            [
             0.8888888888888888,
             "#fdca26"
            ],
            [
             1,
             "#f0f921"
            ]
           ]
          },
          "colorway": [
           "#636efa",
           "#EF553B",
           "#00cc96",
           "#ab63fa",
           "#FFA15A",
           "#19d3f3",
           "#FF6692",
           "#B6E880",
           "#FF97FF",
           "#FECB52"
          ],
          "font": {
           "color": "#2a3f5f"
          },
          "geo": {
           "bgcolor": "white",
           "lakecolor": "white",
           "landcolor": "#E5ECF6",
           "showlakes": true,
           "showland": true,
           "subunitcolor": "white"
          },
          "hoverlabel": {
           "align": "left"
          },
          "hovermode": "closest",
          "mapbox": {
           "style": "light"
          },
          "paper_bgcolor": "white",
          "plot_bgcolor": "#E5ECF6",
          "polar": {
           "angularaxis": {
            "gridcolor": "white",
            "linecolor": "white",
            "ticks": ""
           },
           "bgcolor": "#E5ECF6",
           "radialaxis": {
            "gridcolor": "white",
            "linecolor": "white",
            "ticks": ""
           }
          },
          "scene": {
           "xaxis": {
            "backgroundcolor": "#E5ECF6",
            "gridcolor": "white",
            "gridwidth": 2,
            "linecolor": "white",
            "showbackground": true,
            "ticks": "",
            "zerolinecolor": "white"
           },
           "yaxis": {
            "backgroundcolor": "#E5ECF6",
            "gridcolor": "white",
            "gridwidth": 2,
            "linecolor": "white",
            "showbackground": true,
            "ticks": "",
            "zerolinecolor": "white"
           },
           "zaxis": {
            "backgroundcolor": "#E5ECF6",
            "gridcolor": "white",
            "gridwidth": 2,
            "linecolor": "white",
            "showbackground": true,
            "ticks": "",
            "zerolinecolor": "white"
           }
          },
          "shapedefaults": {
           "line": {
            "color": "#2a3f5f"
           }
          },
          "ternary": {
           "aaxis": {
            "gridcolor": "white",
            "linecolor": "white",
            "ticks": ""
           },
           "baxis": {
            "gridcolor": "white",
            "linecolor": "white",
            "ticks": ""
           },
           "bgcolor": "#E5ECF6",
           "caxis": {
            "gridcolor": "white",
            "linecolor": "white",
            "ticks": ""
           }
          },
          "title": {
           "x": 0.05
          },
          "xaxis": {
           "automargin": true,
           "gridcolor": "white",
           "linecolor": "white",
           "ticks": "",
           "title": {
            "standoff": 15
           },
           "zerolinecolor": "white",
           "zerolinewidth": 2
          },
          "yaxis": {
           "automargin": true,
           "gridcolor": "white",
           "linecolor": "white",
           "ticks": "",
           "title": {
            "standoff": 15
           },
           "zerolinecolor": "white",
           "zerolinewidth": 2
          }
         }
        },
        "title": {
         "text": "Relationship Between Vote Count and Average Rating"
        },
        "xaxis": {
         "anchor": "y",
         "domain": [
          0,
          1
         ],
         "title": {
          "text": "Vote Count"
         }
        },
        "yaxis": {
         "anchor": "x",
         "domain": [
          0,
          1
         ],
         "title": {
          "text": "Average Rating"
         }
        }
       }
      }
     },
     "metadata": {},
     "output_type": "display_data"
    }
   ],
   "source": [
    "fig = px.scatter(hypothesis_2_df, x='vote_count', y='average_rating',\n",
    "                 labels={'vote_count': 'Vote Count', 'average_rating': 'Average Rating'},\n",
    "                 title='Relationship Between Vote Count and Average Rating',\n",
    "                 trendline='ols',\n",
    "                 trendline_color_override='red') \n",
    "fig.show()"
   ]
  },
  {
   "cell_type": "markdown",
   "metadata": {},
   "source": [
    "# 11. **High Budget, High Rating**:\n",
    "### Hypothesis: Movies with higher budgets tend to receive higher average ratings from users."
   ]
  },
  {
   "cell_type": "code",
   "execution_count": 25,
   "metadata": {},
   "outputs": [],
   "source": [
    "query = \"\"\"\n",
    "SELECT\n",
    "    id AS movie_id,\n",
    "    budget,\n",
    "    AVG(vote_average) AS average_rating\n",
    "FROM\n",
    "    movies_metadata\n",
    "GROUP BY\n",
    "    id, budget\n",
    "ORDER BY\n",
    "    budget DESC;\n",
    "\"\"\"\n"
   ]
  },
  {
   "cell_type": "markdown",
   "metadata": {},
   "source": [
    "- Create a Connection: Establishes a connection to the database.\n",
    "- Execute the Query and Read the Result: Executes an SQL query and reads the results into a pandas DataFrame.\n",
    "- Print the Result: Outputs the first few rows of the DataFrame for inspection.\n",
    "- Close the Connection: Terminates the connection to the database to free up resources."
   ]
  },
  {
   "cell_type": "code",
   "execution_count": 26,
   "metadata": {},
   "outputs": [
    {
     "name": "stdout",
     "output_type": "stream",
     "text": [
      "   movie_id    budget  average_rating\n",
      "0      1408  98000000             5.7\n",
      "1      9593  85000000             6.1\n",
      "2      3595  80000000             6.4\n",
      "3      9350  70000000             6.1\n",
      "4      9333  67000000             6.2\n"
     ]
    }
   ],
   "source": [
    "# create a connection\n",
    "connection = engine.connect()\n",
    "\n",
    "# execute the query and read the result\n",
    "hypothesis_3_df = pd.read_sql(text(query), connection)\n",
    "# print the result\n",
    "print(hypothesis_3_df.head())\n",
    "\n",
    "# close the connection\n",
    "connection.close()"
   ]
  },
  {
   "cell_type": "code",
   "execution_count": 30,
   "metadata": {},
   "outputs": [
    {
     "data": {
      "application/vnd.plotly.v1+json": {
       "config": {
        "plotlyServerURL": "https://plot.ly"
       },
       "data": [
        {
         "hovertemplate": "<b>%{hovertext}</b><br><br>Budget=%{x}<br>Average Rating=%{marker.color}<extra></extra>",
         "hovertext": [
          1408,
          9593,
          3595,
          9350,
          9333,
          329,
          9087,
          11517,
          13,
          524,
          9057,
          9691,
          12123,
          9607,
          888,
          9304,
          10731,
          10858,
          867,
          2124,
          6071,
          10830,
          9091,
          11876,
          12233,
          8012,
          862,
          6075,
          9273,
          10057,
          78,
          1770,
          15139,
          2925,
          36355,
          10861,
          11969,
          36915,
          12121,
          10442,
          9479,
          4584,
          31357,
          9100,
          9495,
          11962,
          319,
          9603,
          687,
          922,
          17585,
          13685,
          2897,
          3573,
          1712,
          5,
          3598,
          22279,
          1585,
          261,
          406,
          507,
          3083,
          488,
          900,
          1939,
          22733,
          3080,
          3529,
          10331,
          11074,
          22649,
          220,
          198,
          260,
          890,
          1413,
          1710,
          2033,
          3085,
          4837,
          9058,
          9098,
          9308,
          9401,
          9612,
          10464,
          10635,
          11062,
          11076,
          11310,
          11687,
          11929,
          12110,
          12606,
          12632,
          12665,
          13203,
          13562,
          16295,
          18203,
          18555,
          18658,
          18975,
          19176,
          19326,
          20759,
          20967,
          21032,
          22292,
          22317,
          22356,
          22613,
          22657,
          22688,
          23114,
          23449,
          26261,
          26378,
          26408,
          28628,
          29918,
          29973,
          32513,
          32574,
          33367,
          33689,
          34024,
          34152,
          34615,
          35206,
          37667,
          39448,
          39940,
          40206,
          41590,
          42580,
          43488,
          43795,
          43905,
          44465,
          45549,
          46063,
          47260,
          47939,
          48992,
          49299,
          50001,
          52633,
          52855,
          57575,
          58985,
          62364,
          63945,
          69895,
          73183,
          76464,
          85328,
          85638,
          90148,
          92381,
          124614,
          124632,
          125587,
          131232,
          139405,
          151489,
          161158,
          172868,
          176841,
          218473
         ],
         "legendgroup": "",
         "marker": {
          "color": [
           5.7,
           6.1,
           6.4,
           6.1,
           6.2,
           7.6,
           6.5,
           5.4,
           8.2,
           7.8,
           5,
           6,
           5.3,
           4,
           5,
           5.5,
           6.4,
           7.1,
           4.9,
           5.4,
           5.7,
           6.9,
           5.5,
           6.7,
           6.5,
           6.4,
           7.7,
           7.7,
           6.1,
           6.2,
           7.9,
           6.8,
           6.2,
           6.5,
           5.3,
           5.3,
           7.4,
           5,
           5.3,
           6.1,
           7.6,
           7.2,
           6.1,
           6.3,
           7.3,
           5,
           7.5,
           6.9,
           7.3,
           7.2,
           6.1,
           6.8,
           6.5,
           6.7,
           7.5,
           6.5,
           6.8,
           6,
           8,
           7.6,
           7.9,
           6.1,
           7.9,
           7.4,
           7.6,
           7.6,
           6.2,
           7.4,
           7.4,
           7.5,
           5.4,
           6.2,
           7.5,
           7.7,
           7.4,
           6.8,
           6.6,
           6.5,
           0,
           7.5,
           6.5,
           6.4,
           5.2,
           5.4,
           5.9,
           4.8,
           6.4,
           6.3,
           6,
           6.6,
           4.9,
           7.1,
           7.1,
           5.7,
           5.8,
           6.3,
           6.3,
           5.6,
           7.7,
           6.4,
           6.8,
           6.3,
           5.7,
           5,
           5.1,
           4,
           5.1,
           7.4,
           7.1,
           7.3,
           5.7,
           6.6,
           4.9,
           5.8,
           5.7,
           6.6,
           4.9,
           5,
           5.6,
           7.3,
           7.2,
           6.1,
           6.1,
           7,
           7.3,
           4,
           6.1,
           6.4,
           6.7,
           6.7,
           7.4,
           6,
           7.4,
           6.7,
           6.2,
           5.5,
           5.1,
           5.2,
           6.4,
           6.4,
           4.9,
           5.6,
           5.6,
           6.5,
           6.1,
           6.3,
           5.4,
           5,
           6.6,
           5,
           5.1,
           6.5,
           5.5,
           4.8,
           6,
           10,
           3.8,
           5.3,
           8.3,
           4.4,
           5.4,
           6.5,
           0,
           4,
           0,
           3.5,
           6.5,
           6,
           0,
           6,
           0
          ],
          "coloraxis": "coloraxis",
          "size": [
           5.7,
           6.1,
           6.4,
           6.1,
           6.2,
           7.6,
           6.5,
           5.4,
           8.2,
           7.8,
           5,
           6,
           5.3,
           4,
           5,
           5.5,
           6.4,
           7.1,
           4.9,
           5.4,
           5.7,
           6.9,
           5.5,
           6.7,
           6.5,
           6.4,
           7.7,
           7.7,
           6.1,
           6.2,
           7.9,
           6.8,
           6.2,
           6.5,
           5.3,
           5.3,
           7.4,
           5,
           5.3,
           6.1,
           7.6,
           7.2,
           6.1,
           6.3,
           7.3,
           5,
           7.5,
           6.9,
           7.3,
           7.2,
           6.1,
           6.8,
           6.5,
           6.7,
           7.5,
           6.5,
           6.8,
           6,
           8,
           7.6,
           7.9,
           6.1,
           7.9,
           7.4,
           7.6,
           7.6,
           6.2,
           7.4,
           7.4,
           7.5,
           5.4,
           6.2,
           7.5,
           7.7,
           7.4,
           6.8,
           6.6,
           6.5,
           0,
           7.5,
           6.5,
           6.4,
           5.2,
           5.4,
           5.9,
           4.8,
           6.4,
           6.3,
           6,
           6.6,
           4.9,
           7.1,
           7.1,
           5.7,
           5.8,
           6.3,
           6.3,
           5.6,
           7.7,
           6.4,
           6.8,
           6.3,
           5.7,
           5,
           5.1,
           4,
           5.1,
           7.4,
           7.1,
           7.3,
           5.7,
           6.6,
           4.9,
           5.8,
           5.7,
           6.6,
           4.9,
           5,
           5.6,
           7.3,
           7.2,
           6.1,
           6.1,
           7,
           7.3,
           4,
           6.1,
           6.4,
           6.7,
           6.7,
           7.4,
           6,
           7.4,
           6.7,
           6.2,
           5.5,
           5.1,
           5.2,
           6.4,
           6.4,
           4.9,
           5.6,
           5.6,
           6.5,
           6.1,
           6.3,
           5.4,
           5,
           6.6,
           5,
           5.1,
           6.5,
           5.5,
           4.8,
           6,
           10,
           3.8,
           5.3,
           8.3,
           4.4,
           5.4,
           6.5,
           0,
           4,
           0,
           3.5,
           6.5,
           6,
           0,
           6,
           0
          ],
          "sizemode": "area",
          "sizeref": 0.025,
          "symbol": "circle"
         },
         "mode": "markers",
         "name": "",
         "orientation": "v",
         "showlegend": false,
         "type": "scatter",
         "x": [
          98000000,
          85000000,
          80000000,
          70000000,
          67000000,
          63000000,
          62000000,
          60000000,
          55000000,
          52000000,
          50000000,
          50000000,
          50000000,
          48000000,
          46000000,
          45000000,
          45000000,
          44000000,
          40000000,
          40000000,
          40000000,
          36000000,
          35000000,
          35000000,
          31000000,
          30250000,
          30000000,
          30000000,
          30000000,
          30000000,
          28000000,
          28000000,
          27000000,
          26000000,
          25530000,
          25000000,
          25000000,
          25000000,
          22000000,
          20000000,
          18000000,
          16500000,
          16000000,
          15000000,
          15000000,
          13000000,
          12500000,
          12000000,
          11000000,
          9000000,
          7400000,
          7000000,
          6000000,
          6000000,
          5400000,
          4000000,
          4000000,
          4000000,
          3180000,
          3000000,
          3000000,
          1500000,
          1500000,
          1300000,
          1073000,
          1020000,
          1000000,
          609000,
          226408,
          114000,
          30,
          4,
          1,
          0,
          0,
          0,
          0,
          0,
          0,
          0,
          0,
          0,
          0,
          0,
          0,
          0,
          0,
          0,
          0,
          0,
          0,
          0,
          0,
          0,
          0,
          0,
          0,
          0,
          0,
          0,
          0,
          0,
          0,
          0,
          0,
          0,
          0,
          0,
          0,
          0,
          0,
          0,
          0,
          0,
          0,
          0,
          0,
          0,
          0,
          0,
          0,
          0,
          0,
          0,
          0,
          0,
          0,
          0,
          0,
          0,
          0,
          0,
          0,
          0,
          0,
          0,
          0,
          0,
          0,
          0,
          0,
          0,
          0,
          0,
          0,
          0,
          0,
          0,
          0,
          0,
          0,
          0,
          0,
          0,
          0,
          0,
          0,
          0,
          0,
          0,
          0,
          0,
          0,
          0,
          0,
          0,
          0,
          0,
          0,
          0,
          0
         ],
         "xaxis": "x",
         "y": [
          5.7,
          6.1,
          6.4,
          6.1,
          6.2,
          7.6,
          6.5,
          5.4,
          8.2,
          7.8,
          5,
          6,
          5.3,
          4,
          5,
          5.5,
          6.4,
          7.1,
          4.9,
          5.4,
          5.7,
          6.9,
          5.5,
          6.7,
          6.5,
          6.4,
          7.7,
          7.7,
          6.1,
          6.2,
          7.9,
          6.8,
          6.2,
          6.5,
          5.3,
          5.3,
          7.4,
          5,
          5.3,
          6.1,
          7.6,
          7.2,
          6.1,
          6.3,
          7.3,
          5,
          7.5,
          6.9,
          7.3,
          7.2,
          6.1,
          6.8,
          6.5,
          6.7,
          7.5,
          6.5,
          6.8,
          6,
          8,
          7.6,
          7.9,
          6.1,
          7.9,
          7.4,
          7.6,
          7.6,
          6.2,
          7.4,
          7.4,
          7.5,
          5.4,
          6.2,
          7.5,
          7.7,
          7.4,
          6.8,
          6.6,
          6.5,
          0,
          7.5,
          6.5,
          6.4,
          5.2,
          5.4,
          5.9,
          4.8,
          6.4,
          6.3,
          6,
          6.6,
          4.9,
          7.1,
          7.1,
          5.7,
          5.8,
          6.3,
          6.3,
          5.6,
          7.7,
          6.4,
          6.8,
          6.3,
          5.7,
          5,
          5.1,
          4,
          5.1,
          7.4,
          7.1,
          7.3,
          5.7,
          6.6,
          4.9,
          5.8,
          5.7,
          6.6,
          4.9,
          5,
          5.6,
          7.3,
          7.2,
          6.1,
          6.1,
          7,
          7.3,
          4,
          6.1,
          6.4,
          6.7,
          6.7,
          7.4,
          6,
          7.4,
          6.7,
          6.2,
          5.5,
          5.1,
          5.2,
          6.4,
          6.4,
          4.9,
          5.6,
          5.6,
          6.5,
          6.1,
          6.3,
          5.4,
          5,
          6.6,
          5,
          5.1,
          6.5,
          5.5,
          4.8,
          6,
          10,
          3.8,
          5.3,
          8.3,
          4.4,
          5.4,
          6.5,
          0,
          4,
          0,
          3.5,
          6.5,
          6,
          0,
          6,
          0
         ],
         "yaxis": "y"
        },
        {
         "hovertemplate": "<b>OLS trendline</b><br>average_rating = 4.69859e-09 * budget + 6.02948<br>R<sup>2</sup>=0.004148<br><br>Budget=%{x}<br>Average Rating=%{y} <b>(trend)</b><extra></extra>",
         "legendgroup": "",
         "line": {
          "color": "red"
         },
         "marker": {
          "symbol": "circle"
         },
         "mode": "lines",
         "name": "",
         "showlegend": false,
         "type": "scatter",
         "x": [
          0,
          0,
          0,
          0,
          0,
          0,
          0,
          0,
          0,
          0,
          0,
          0,
          0,
          0,
          0,
          0,
          0,
          0,
          0,
          0,
          0,
          0,
          0,
          0,
          0,
          0,
          0,
          0,
          0,
          0,
          0,
          0,
          0,
          0,
          0,
          0,
          0,
          0,
          0,
          0,
          0,
          0,
          0,
          0,
          0,
          0,
          0,
          0,
          0,
          0,
          0,
          0,
          0,
          0,
          0,
          0,
          0,
          0,
          0,
          0,
          0,
          0,
          0,
          0,
          0,
          0,
          0,
          0,
          0,
          0,
          0,
          0,
          0,
          0,
          0,
          0,
          0,
          0,
          0,
          0,
          0,
          0,
          0,
          0,
          0,
          0,
          0,
          0,
          0,
          0,
          0,
          0,
          0,
          0,
          0,
          0,
          0,
          0,
          1,
          4,
          30,
          114000,
          226408,
          609000,
          1000000,
          1020000,
          1073000,
          1300000,
          1500000,
          1500000,
          3000000,
          3000000,
          3180000,
          4000000,
          4000000,
          4000000,
          5400000,
          6000000,
          6000000,
          7000000,
          7400000,
          9000000,
          11000000,
          12000000,
          12500000,
          13000000,
          15000000,
          15000000,
          16000000,
          16500000,
          18000000,
          20000000,
          22000000,
          25000000,
          25000000,
          25000000,
          25530000,
          26000000,
          27000000,
          28000000,
          28000000,
          30000000,
          30000000,
          30000000,
          30000000,
          30250000,
          31000000,
          35000000,
          35000000,
          36000000,
          40000000,
          40000000,
          40000000,
          44000000,
          45000000,
          45000000,
          46000000,
          48000000,
          50000000,
          50000000,
          50000000,
          52000000,
          55000000,
          60000000,
          62000000,
          63000000,
          67000000,
          70000000,
          80000000,
          85000000,
          98000000
         ],
         "xaxis": "x",
         "y": [
          6.029477384316594,
          6.029477384316594,
          6.029477384316594,
          6.029477384316594,
          6.029477384316594,
          6.029477384316594,
          6.029477384316594,
          6.029477384316594,
          6.029477384316594,
          6.029477384316594,
          6.029477384316594,
          6.029477384316594,
          6.029477384316594,
          6.029477384316594,
          6.029477384316594,
          6.029477384316594,
          6.029477384316594,
          6.029477384316594,
          6.029477384316594,
          6.029477384316594,
          6.029477384316594,
          6.029477384316594,
          6.029477384316594,
          6.029477384316594,
          6.029477384316594,
          6.029477384316594,
          6.029477384316594,
          6.029477384316594,
          6.029477384316594,
          6.029477384316594,
          6.029477384316594,
          6.029477384316594,
          6.029477384316594,
          6.029477384316594,
          6.029477384316594,
          6.029477384316594,
          6.029477384316594,
          6.029477384316594,
          6.029477384316594,
          6.029477384316594,
          6.029477384316594,
          6.029477384316594,
          6.029477384316594,
          6.029477384316594,
          6.029477384316594,
          6.029477384316594,
          6.029477384316594,
          6.029477384316594,
          6.029477384316594,
          6.029477384316594,
          6.029477384316594,
          6.029477384316594,
          6.029477384316594,
          6.029477384316594,
          6.029477384316594,
          6.029477384316594,
          6.029477384316594,
          6.029477384316594,
          6.029477384316594,
          6.029477384316594,
          6.029477384316594,
          6.029477384316594,
          6.029477384316594,
          6.029477384316594,
          6.029477384316594,
          6.029477384316594,
          6.029477384316594,
          6.029477384316594,
          6.029477384316594,
          6.029477384316594,
          6.029477384316594,
          6.029477384316594,
          6.029477384316594,
          6.029477384316594,
          6.029477384316594,
          6.029477384316594,
          6.029477384316594,
          6.029477384316594,
          6.029477384316594,
          6.029477384316594,
          6.029477384316594,
          6.029477384316594,
          6.029477384316594,
          6.029477384316594,
          6.029477384316594,
          6.029477384316594,
          6.029477384316594,
          6.029477384316594,
          6.029477384316594,
          6.029477384316594,
          6.029477384316594,
          6.029477384316594,
          6.029477384316594,
          6.029477384316594,
          6.029477384316594,
          6.029477384316594,
          6.029477384316594,
          6.029477384316594,
          6.029477389015186,
          6.029477403110963,
          6.029477525274363,
          6.030013023838177,
          6.030541183200827,
          6.032338827024,
          6.034175976611185,
          6.0342699484570765,
          6.03451897384869,
          6.035585554299562,
          6.036525272758481,
          6.036525272758481,
          6.043573161200367,
          6.043573161200367,
          6.044418907813394,
          6.048271753494959,
          6.048271753494959,
          6.048271753494959,
          6.054849782707387,
          6.0576689380841415,
          6.0576689380841415,
          6.062367530378733,
          6.064246967296569,
          6.071764714967915,
          6.081161899557098,
          6.085860491851689,
          6.088209787998985,
          6.090559084146281,
          6.099956268735463,
          6.099956268735463,
          6.104654861030054,
          6.10700415717735,
          6.114052045619237,
          6.123449230208419,
          6.132846414797602,
          6.146942191681376,
          6.146942191681376,
          6.146942191681376,
          6.149432445597509,
          6.151640783975967,
          6.156339376270559,
          6.16103796856515,
          6.16103796856515,
          6.170435153154332,
          6.170435153154332,
          6.170435153154332,
          6.170435153154332,
          6.17160980122798,
          6.175133745448924,
          6.193928114627289,
          6.193928114627289,
          6.19862670692188,
          6.217421076100245,
          6.217421076100245,
          6.217421076100245,
          6.236215445278611,
          6.2409140375732015,
          6.2409140375732015,
          6.245612629867793,
          6.255009814456976,
          6.264406999046158,
          6.264406999046158,
          6.264406999046158,
          6.273804183635341,
          6.287899960519114,
          6.311392921992072,
          6.320790106581254,
          6.325488698875845,
          6.34428306805421,
          6.3583788449379846,
          6.405364767883897,
          6.428857729356854,
          6.48993942918654
         ],
         "yaxis": "y"
        }
       ],
       "layout": {
        "annotations": [
         {
          "align": "left",
          "bordercolor": "black",
          "borderwidth": 1,
          "font": {
           "color": "black",
           "size": 12
          },
          "showarrow": false,
          "text": "Correlation: 0.06<br>P-value: 4.03e-01",
          "x": 98000000,
          "xanchor": "right",
          "y": 0,
          "yanchor": "bottom"
         }
        ],
        "coloraxis": {
         "colorbar": {
          "title": {
           "text": "Average Rating"
          }
         },
         "colorscale": [
          [
           0,
           "#440154"
          ],
          [
           0.1111111111111111,
           "#482878"
          ],
          [
           0.2222222222222222,
           "#3e4989"
          ],
          [
           0.3333333333333333,
           "#31688e"
          ],
          [
           0.4444444444444444,
           "#26828e"
          ],
          [
           0.5555555555555556,
           "#1f9e89"
          ],
          [
           0.6666666666666666,
           "#35b779"
          ],
          [
           0.7777777777777778,
           "#6ece58"
          ],
          [
           0.8888888888888888,
           "#b5de2b"
          ],
          [
           1,
           "#fde725"
          ]
         ]
        },
        "font": {
         "color": "black",
         "family": "Arial, sans-serif",
         "size": 14
        },
        "legend": {
         "itemsizing": "constant",
         "tracegroupgap": 0
        },
        "paper_bgcolor": "rgba(255, 255, 255, 1)",
        "plot_bgcolor": "rgba(0, 0, 0, 0)",
        "template": {
         "data": {
          "bar": [
           {
            "error_x": {
             "color": "#2a3f5f"
            },
            "error_y": {
             "color": "#2a3f5f"
            },
            "marker": {
             "line": {
              "color": "#E5ECF6",
              "width": 0.5
             },
             "pattern": {
              "fillmode": "overlay",
              "size": 10,
              "solidity": 0.2
             }
            },
            "type": "bar"
           }
          ],
          "barpolar": [
           {
            "marker": {
             "line": {
              "color": "#E5ECF6",
              "width": 0.5
             },
             "pattern": {
              "fillmode": "overlay",
              "size": 10,
              "solidity": 0.2
             }
            },
            "type": "barpolar"
           }
          ],
          "carpet": [
           {
            "aaxis": {
             "endlinecolor": "#2a3f5f",
             "gridcolor": "white",
             "linecolor": "white",
             "minorgridcolor": "white",
             "startlinecolor": "#2a3f5f"
            },
            "baxis": {
             "endlinecolor": "#2a3f5f",
             "gridcolor": "white",
             "linecolor": "white",
             "minorgridcolor": "white",
             "startlinecolor": "#2a3f5f"
            },
            "type": "carpet"
           }
          ],
          "choropleth": [
           {
            "colorbar": {
             "outlinewidth": 0,
             "ticks": ""
            },
            "type": "choropleth"
           }
          ],
          "contour": [
           {
            "colorbar": {
             "outlinewidth": 0,
             "ticks": ""
            },
            "colorscale": [
             [
              0,
              "#0d0887"
             ],
             [
              0.1111111111111111,
              "#46039f"
             ],
             [
              0.2222222222222222,
              "#7201a8"
             ],
             [
              0.3333333333333333,
              "#9c179e"
             ],
             [
              0.4444444444444444,
              "#bd3786"
             ],
             [
              0.5555555555555556,
              "#d8576b"
             ],
             [
              0.6666666666666666,
              "#ed7953"
             ],
             [
              0.7777777777777778,
              "#fb9f3a"
             ],
             [
              0.8888888888888888,
              "#fdca26"
             ],
             [
              1,
              "#f0f921"
             ]
            ],
            "type": "contour"
           }
          ],
          "contourcarpet": [
           {
            "colorbar": {
             "outlinewidth": 0,
             "ticks": ""
            },
            "type": "contourcarpet"
           }
          ],
          "heatmap": [
           {
            "colorbar": {
             "outlinewidth": 0,
             "ticks": ""
            },
            "colorscale": [
             [
              0,
              "#0d0887"
             ],
             [
              0.1111111111111111,
              "#46039f"
             ],
             [
              0.2222222222222222,
              "#7201a8"
             ],
             [
              0.3333333333333333,
              "#9c179e"
             ],
             [
              0.4444444444444444,
              "#bd3786"
             ],
             [
              0.5555555555555556,
              "#d8576b"
             ],
             [
              0.6666666666666666,
              "#ed7953"
             ],
             [
              0.7777777777777778,
              "#fb9f3a"
             ],
             [
              0.8888888888888888,
              "#fdca26"
             ],
             [
              1,
              "#f0f921"
             ]
            ],
            "type": "heatmap"
           }
          ],
          "heatmapgl": [
           {
            "colorbar": {
             "outlinewidth": 0,
             "ticks": ""
            },
            "colorscale": [
             [
              0,
              "#0d0887"
             ],
             [
              0.1111111111111111,
              "#46039f"
             ],
             [
              0.2222222222222222,
              "#7201a8"
             ],
             [
              0.3333333333333333,
              "#9c179e"
             ],
             [
              0.4444444444444444,
              "#bd3786"
             ],
             [
              0.5555555555555556,
              "#d8576b"
             ],
             [
              0.6666666666666666,
              "#ed7953"
             ],
             [
              0.7777777777777778,
              "#fb9f3a"
             ],
             [
              0.8888888888888888,
              "#fdca26"
             ],
             [
              1,
              "#f0f921"
             ]
            ],
            "type": "heatmapgl"
           }
          ],
          "histogram": [
           {
            "marker": {
             "pattern": {
              "fillmode": "overlay",
              "size": 10,
              "solidity": 0.2
             }
            },
            "type": "histogram"
           }
          ],
          "histogram2d": [
           {
            "colorbar": {
             "outlinewidth": 0,
             "ticks": ""
            },
            "colorscale": [
             [
              0,
              "#0d0887"
             ],
             [
              0.1111111111111111,
              "#46039f"
             ],
             [
              0.2222222222222222,
              "#7201a8"
             ],
             [
              0.3333333333333333,
              "#9c179e"
             ],
             [
              0.4444444444444444,
              "#bd3786"
             ],
             [
              0.5555555555555556,
              "#d8576b"
             ],
             [
              0.6666666666666666,
              "#ed7953"
             ],
             [
              0.7777777777777778,
              "#fb9f3a"
             ],
             [
              0.8888888888888888,
              "#fdca26"
             ],
             [
              1,
              "#f0f921"
             ]
            ],
            "type": "histogram2d"
           }
          ],
          "histogram2dcontour": [
           {
            "colorbar": {
             "outlinewidth": 0,
             "ticks": ""
            },
            "colorscale": [
             [
              0,
              "#0d0887"
             ],
             [
              0.1111111111111111,
              "#46039f"
             ],
             [
              0.2222222222222222,
              "#7201a8"
             ],
             [
              0.3333333333333333,
              "#9c179e"
             ],
             [
              0.4444444444444444,
              "#bd3786"
             ],
             [
              0.5555555555555556,
              "#d8576b"
             ],
             [
              0.6666666666666666,
              "#ed7953"
             ],
             [
              0.7777777777777778,
              "#fb9f3a"
             ],
             [
              0.8888888888888888,
              "#fdca26"
             ],
             [
              1,
              "#f0f921"
             ]
            ],
            "type": "histogram2dcontour"
           }
          ],
          "mesh3d": [
           {
            "colorbar": {
             "outlinewidth": 0,
             "ticks": ""
            },
            "type": "mesh3d"
           }
          ],
          "parcoords": [
           {
            "line": {
             "colorbar": {
              "outlinewidth": 0,
              "ticks": ""
             }
            },
            "type": "parcoords"
           }
          ],
          "pie": [
           {
            "automargin": true,
            "type": "pie"
           }
          ],
          "scatter": [
           {
            "fillpattern": {
             "fillmode": "overlay",
             "size": 10,
             "solidity": 0.2
            },
            "type": "scatter"
           }
          ],
          "scatter3d": [
           {
            "line": {
             "colorbar": {
              "outlinewidth": 0,
              "ticks": ""
             }
            },
            "marker": {
             "colorbar": {
              "outlinewidth": 0,
              "ticks": ""
             }
            },
            "type": "scatter3d"
           }
          ],
          "scattercarpet": [
           {
            "marker": {
             "colorbar": {
              "outlinewidth": 0,
              "ticks": ""
             }
            },
            "type": "scattercarpet"
           }
          ],
          "scattergeo": [
           {
            "marker": {
             "colorbar": {
              "outlinewidth": 0,
              "ticks": ""
             }
            },
            "type": "scattergeo"
           }
          ],
          "scattergl": [
           {
            "marker": {
             "colorbar": {
              "outlinewidth": 0,
              "ticks": ""
             }
            },
            "type": "scattergl"
           }
          ],
          "scattermapbox": [
           {
            "marker": {
             "colorbar": {
              "outlinewidth": 0,
              "ticks": ""
             }
            },
            "type": "scattermapbox"
           }
          ],
          "scatterpolar": [
           {
            "marker": {
             "colorbar": {
              "outlinewidth": 0,
              "ticks": ""
             }
            },
            "type": "scatterpolar"
           }
          ],
          "scatterpolargl": [
           {
            "marker": {
             "colorbar": {
              "outlinewidth": 0,
              "ticks": ""
             }
            },
            "type": "scatterpolargl"
           }
          ],
          "scatterternary": [
           {
            "marker": {
             "colorbar": {
              "outlinewidth": 0,
              "ticks": ""
             }
            },
            "type": "scatterternary"
           }
          ],
          "surface": [
           {
            "colorbar": {
             "outlinewidth": 0,
             "ticks": ""
            },
            "colorscale": [
             [
              0,
              "#0d0887"
             ],
             [
              0.1111111111111111,
              "#46039f"
             ],
             [
              0.2222222222222222,
              "#7201a8"
             ],
             [
              0.3333333333333333,
              "#9c179e"
             ],
             [
              0.4444444444444444,
              "#bd3786"
             ],
             [
              0.5555555555555556,
              "#d8576b"
             ],
             [
              0.6666666666666666,
              "#ed7953"
             ],
             [
              0.7777777777777778,
              "#fb9f3a"
             ],
             [
              0.8888888888888888,
              "#fdca26"
             ],
             [
              1,
              "#f0f921"
             ]
            ],
            "type": "surface"
           }
          ],
          "table": [
           {
            "cells": {
             "fill": {
              "color": "#EBF0F8"
             },
             "line": {
              "color": "white"
             }
            },
            "header": {
             "fill": {
              "color": "#C8D4E3"
             },
             "line": {
              "color": "white"
             }
            },
            "type": "table"
           }
          ]
         },
         "layout": {
          "annotationdefaults": {
           "arrowcolor": "#2a3f5f",
           "arrowhead": 0,
           "arrowwidth": 1
          },
          "autotypenumbers": "strict",
          "coloraxis": {
           "colorbar": {
            "outlinewidth": 0,
            "ticks": ""
           }
          },
          "colorscale": {
           "diverging": [
            [
             0,
             "#8e0152"
            ],
            [
             0.1,
             "#c51b7d"
            ],
            [
             0.2,
             "#de77ae"
            ],
            [
             0.3,
             "#f1b6da"
            ],
            [
             0.4,
             "#fde0ef"
            ],
            [
             0.5,
             "#f7f7f7"
            ],
            [
             0.6,
             "#e6f5d0"
            ],
            [
             0.7,
             "#b8e186"
            ],
            [
             0.8,
             "#7fbc41"
            ],
            [
             0.9,
             "#4d9221"
            ],
            [
             1,
             "#276419"
            ]
           ],
           "sequential": [
            [
             0,
             "#0d0887"
            ],
            [
             0.1111111111111111,
             "#46039f"
            ],
            [
             0.2222222222222222,
             "#7201a8"
            ],
            [
             0.3333333333333333,
             "#9c179e"
            ],
            [
             0.4444444444444444,
             "#bd3786"
            ],
            [
             0.5555555555555556,
             "#d8576b"
            ],
            [
             0.6666666666666666,
             "#ed7953"
            ],
            [
             0.7777777777777778,
             "#fb9f3a"
            ],
            [
             0.8888888888888888,
             "#fdca26"
            ],
            [
             1,
             "#f0f921"
            ]
           ],
           "sequentialminus": [
            [
             0,
             "#0d0887"
            ],
            [
             0.1111111111111111,
             "#46039f"
            ],
            [
             0.2222222222222222,
             "#7201a8"
            ],
            [
             0.3333333333333333,
             "#9c179e"
            ],
            [
             0.4444444444444444,
             "#bd3786"
            ],
            [
             0.5555555555555556,
             "#d8576b"
            ],
            [
             0.6666666666666666,
             "#ed7953"
            ],
            [
             0.7777777777777778,
             "#fb9f3a"
            ],
            [
             0.8888888888888888,
             "#fdca26"
            ],
            [
             1,
             "#f0f921"
            ]
           ]
          },
          "colorway": [
           "#636efa",
           "#EF553B",
           "#00cc96",
           "#ab63fa",
           "#FFA15A",
           "#19d3f3",
           "#FF6692",
           "#B6E880",
           "#FF97FF",
           "#FECB52"
          ],
          "font": {
           "color": "#2a3f5f"
          },
          "geo": {
           "bgcolor": "white",
           "lakecolor": "white",
           "landcolor": "#E5ECF6",
           "showlakes": true,
           "showland": true,
           "subunitcolor": "white"
          },
          "hoverlabel": {
           "align": "left"
          },
          "hovermode": "closest",
          "mapbox": {
           "style": "light"
          },
          "paper_bgcolor": "white",
          "plot_bgcolor": "#E5ECF6",
          "polar": {
           "angularaxis": {
            "gridcolor": "white",
            "linecolor": "white",
            "ticks": ""
           },
           "bgcolor": "#E5ECF6",
           "radialaxis": {
            "gridcolor": "white",
            "linecolor": "white",
            "ticks": ""
           }
          },
          "scene": {
           "xaxis": {
            "backgroundcolor": "#E5ECF6",
            "gridcolor": "white",
            "gridwidth": 2,
            "linecolor": "white",
            "showbackground": true,
            "ticks": "",
            "zerolinecolor": "white"
           },
           "yaxis": {
            "backgroundcolor": "#E5ECF6",
            "gridcolor": "white",
            "gridwidth": 2,
            "linecolor": "white",
            "showbackground": true,
            "ticks": "",
            "zerolinecolor": "white"
           },
           "zaxis": {
            "backgroundcolor": "#E5ECF6",
            "gridcolor": "white",
            "gridwidth": 2,
            "linecolor": "white",
            "showbackground": true,
            "ticks": "",
            "zerolinecolor": "white"
           }
          },
          "shapedefaults": {
           "line": {
            "color": "#2a3f5f"
           }
          },
          "ternary": {
           "aaxis": {
            "gridcolor": "white",
            "linecolor": "white",
            "ticks": ""
           },
           "baxis": {
            "gridcolor": "white",
            "linecolor": "white",
            "ticks": ""
           },
           "bgcolor": "#E5ECF6",
           "caxis": {
            "gridcolor": "white",
            "linecolor": "white",
            "ticks": ""
           }
          },
          "title": {
           "x": 0.05
          },
          "xaxis": {
           "automargin": true,
           "gridcolor": "white",
           "linecolor": "white",
           "ticks": "",
           "title": {
            "standoff": 15
           },
           "zerolinecolor": "white",
           "zerolinewidth": 2
          },
          "yaxis": {
           "automargin": true,
           "gridcolor": "white",
           "linecolor": "white",
           "ticks": "",
           "title": {
            "standoff": 15
           },
           "zerolinecolor": "white",
           "zerolinewidth": 2
          }
         }
        },
        "title": {
         "text": "Relationship Between Budget and Average Rating",
         "x": 0.5,
         "xanchor": "center"
        },
        "xaxis": {
         "anchor": "y",
         "domain": [
          0,
          1
         ],
         "gridcolor": "LightGrey",
         "showgrid": true,
         "title": {
          "text": "Budget (in $)"
         }
        },
        "yaxis": {
         "anchor": "x",
         "domain": [
          0,
          1
         ],
         "gridcolor": "LightGrey",
         "showgrid": true,
         "title": {
          "text": "Average Rating"
         }
        }
       }
      }
     },
     "metadata": {},
     "output_type": "display_data"
    }
   ],
   "source": [
    "\n",
    "# Create the scatter plot with Plotly\n",
    "df = hypothesis_3_df\n",
    "correlation, p_value = pearsonr(df['budget'], df['average_rating'])\n",
    "\n",
    "fig = px.scatter(df, x='budget', y='average_rating',\n",
    "                 labels={'budget': 'Budget', 'average_rating': 'Average Rating'},\n",
    "                 title='Relationship Between Budget and Average Rating',\n",
    "                 trendline='ols',\n",
    "                 trendline_color_override='red',\n",
    "                 size='average_rating',  # size of points based on average rating\n",
    "                 hover_name='movie_id',  # hover info to display movie ID\n",
    "                 color='average_rating',  # color points based on average rating\n",
    "                 color_continuous_scale=px.colors.sequential.Viridis)  # color scale\n",
    "\n",
    "# Customize the layout to center the title and add more styling\n",
    "fig.update_layout(\n",
    "    title={'text': 'Relationship Between Budget and Average Rating', 'x': 0.5, 'xanchor': 'center'},\n",
    "    xaxis_title='Budget (in $)',\n",
    "    yaxis_title='Average Rating',\n",
    "    font=dict(family='Arial, sans-serif', size=14, color='black'),\n",
    "    plot_bgcolor='rgba(0, 0, 0, 0)',  # transparent background\n",
    "    paper_bgcolor='rgba(255, 255, 255, 1)',  # white background\n",
    "    xaxis=dict(showgrid=True, gridcolor='LightGrey'),\n",
    "    yaxis=dict(showgrid=True, gridcolor='LightGrey')\n",
    ")\n",
    "\n",
    "# Add annotations for the correlation coefficient and p-value\n",
    "fig.add_annotation(\n",
    "    x=max(df['budget']),\n",
    "    y=min(df['average_rating']),\n",
    "    text=f'Correlation: {correlation:.2f}<br>P-value: {p_value:.2e}',\n",
    "    showarrow=False,\n",
    "    font=dict(size=12, color='black'),\n",
    "    align='left',\n",
    "    xanchor='right',\n",
    "    yanchor='bottom',\n",
    "    bordercolor='black',\n",
    "    borderwidth=1\n",
    ")\n",
    "\n",
    "# Show the plot\n",
    "fig.show()\n",
    "\n"
   ]
  },
  {
   "cell_type": "markdown",
   "metadata": {},
   "source": [
    "# 14. Popularity's Impact:\n",
    "  ###  Hypothesis: Movies which are popular tend to have higher ratings."
   ]
  },
  {
   "cell_type": "code",
   "execution_count": 42,
   "metadata": {},
   "outputs": [],
   "source": [
    "query = \"\"\"\n",
    "SELECT \n",
    "    movies_metadata.title,\n",
    "    movies_metadata.popularity,\n",
    "    AVG(ratings_small.rating) AS user_avg_rating\n",
    "FROM \n",
    "    movies_metadata \n",
    "JOIN \n",
    "    links_small ON movies_metadata.imdb_id = links_small.imdbId\n",
    "JOIN \n",
    "    ratings_small ON links_small.movieId = ratings_small.movieId\n",
    "GROUP BY \n",
    "    movies_metadata.title, movies_metadata.popularity;\n",
    "\"\"\"\n"
   ]
  },
  {
   "cell_type": "markdown",
   "metadata": {},
   "source": [
    "- Create a Connection: Establishes a connection to the database.\n",
    "- Execute the Query and Read the Result: Executes an SQL query and reads the results into a pandas DataFrame.\n",
    "- Print the Result: Outputs the first few rows of the DataFrame for inspection.\n",
    "- Close the Connection: Terminates the connection to the database to free up resources."
   ]
  },
  {
   "cell_type": "code",
   "execution_count": 45,
   "metadata": {},
   "outputs": [
    {
     "name": "stdout",
     "output_type": "stream",
     "text": [
      "                            title popularity  user_avg_rating\n",
      "0                       Toy Story  21.946943          3.87247\n",
      "1                      Get Shorty  12.669608          3.85714\n",
      "2  Ace Ventura: When Nature Calls   8.205448          2.57143\n",
      "3                          Powder  12.133094          3.04545\n",
      "4                          Casino  10.137389          3.63158\n"
     ]
    }
   ],
   "source": [
    "# create a connection\n",
    "connection = engine.connect()\n",
    "\n",
    "# execute the query and read the result\n",
    "hypothesis_4_df = pd.read_sql(text(query), connection)\n",
    "# print the result\n",
    "print(hypothesis_4_df.head())\n",
    "\n",
    "# close the connection\n",
    "connection.close()"
   ]
  },
  {
   "cell_type": "code",
   "execution_count": 78,
   "metadata": {},
   "outputs": [
    {
     "data": {
      "application/vnd.plotly.v1+json": {
       "config": {
        "plotlyServerURL": "https://plot.ly"
       },
       "data": [
        {
         "alignmentgroup": "True",
         "hovertemplate": "Popularity=9.882383<br>Movie Title=%{x}<br>Average User Rating=%{y}<extra></extra>",
         "legendgroup": "9.882383",
         "marker": {
          "color": "#636efa",
          "pattern": {
           "shape": ""
          }
         },
         "name": "9.882383",
         "offsetgroup": "9.882383",
         "orientation": "v",
         "showlegend": true,
         "textposition": "auto",
         "type": "bar",
         "x": [
          "Clueless"
         ],
         "xaxis": "x",
         "y": [
          3.41667
         ],
         "yaxis": "y"
        },
        {
         "alignmentgroup": "True",
         "hovertemplate": "Popularity=9.026586<br>Movie Title=%{x}<br>Average User Rating=%{y}<extra></extra>",
         "legendgroup": "9.026586",
         "marker": {
          "color": "#EF553B",
          "pattern": {
           "shape": ""
          }
         },
         "name": "9.026586",
         "offsetgroup": "9.026586",
         "orientation": "v",
         "showlegend": true,
         "textposition": "auto",
         "type": "bar",
         "x": [
          "Four Rooms"
         ],
         "xaxis": "x",
         "y": [
          2.83333
         ],
         "yaxis": "y"
        },
        {
         "alignmentgroup": "True",
         "hovertemplate": "Popularity=8.863776<br>Movie Title=%{x}<br>Average User Rating=%{y}<extra></extra>",
         "legendgroup": "8.863776",
         "marker": {
          "color": "#00cc96",
          "pattern": {
           "shape": ""
          }
         },
         "name": "8.863776",
         "offsetgroup": "8.863776",
         "orientation": "v",
         "showlegend": true,
         "textposition": "auto",
         "type": "bar",
         "x": [
          "Jurassic Park"
         ],
         "xaxis": "x",
         "y": [
          4.5
         ],
         "yaxis": "y"
        },
        {
         "alignmentgroup": "True",
         "hovertemplate": "Popularity=8.205448<br>Movie Title=%{x}<br>Average User Rating=%{y}<extra></extra>",
         "legendgroup": "8.205448",
         "marker": {
          "color": "#ab63fa",
          "pattern": {
           "shape": ""
          }
         },
         "name": "8.205448",
         "offsetgroup": "8.205448",
         "orientation": "v",
         "showlegend": true,
         "textposition": "auto",
         "type": "bar",
         "x": [
          "Ace Ventura: When Nature Calls"
         ],
         "xaxis": "x",
         "y": [
          2.57143
         ],
         "yaxis": "y"
        },
        {
         "alignmentgroup": "True",
         "hovertemplate": "Popularity=6.891317<br>Movie Title=%{x}<br>Average User Rating=%{y}<extra></extra>",
         "legendgroup": "6.891317",
         "marker": {
          "color": "#FFA15A",
          "pattern": {
           "shape": ""
          }
         },
         "name": "6.891317",
         "offsetgroup": "6.891317",
         "orientation": "v",
         "showlegend": true,
         "textposition": "auto",
         "type": "bar",
         "x": [
          "Dead Man Walking"
         ],
         "xaxis": "x",
         "y": [
          5
         ],
         "yaxis": "y"
        },
        {
         "alignmentgroup": "True",
         "hovertemplate": "Popularity=6.318445<br>Movie Title=%{x}<br>Average User Rating=%{y}<extra></extra>",
         "legendgroup": "6.318445",
         "marker": {
          "color": "#19d3f3",
          "pattern": {
           "shape": ""
          }
         },
         "name": "6.318445",
         "offsetgroup": "6.318445",
         "orientation": "v",
         "showlegend": true,
         "textposition": "auto",
         "type": "bar",
         "x": [
          "The American President"
         ],
         "xaxis": "x",
         "y": [
          3.95
         ],
         "yaxis": "y"
        },
        {
         "alignmentgroup": "True",
         "hovertemplate": "Popularity=5.23158<br>Movie Title=%{x}<br>Average User Rating=%{y}<extra></extra>",
         "legendgroup": "5.23158",
         "marker": {
          "color": "#FF6692",
          "pattern": {
           "shape": ""
          }
         },
         "name": "5.23158",
         "offsetgroup": "5.23158",
         "orientation": "v",
         "showlegend": true,
         "textposition": "auto",
         "type": "bar",
         "x": [
          "Sudden Death"
         ],
         "xaxis": "x",
         "y": [
          3
         ],
         "yaxis": "y"
        },
        {
         "alignmentgroup": "True",
         "hovertemplate": "Popularity=5.092<br>Movie Title=%{x}<br>Average User Rating=%{y}<extra></extra>",
         "legendgroup": "5.092",
         "marker": {
          "color": "#B6E880",
          "pattern": {
           "shape": ""
          }
         },
         "name": "5.092",
         "offsetgroup": "5.092",
         "orientation": "v",
         "showlegend": true,
         "textposition": "auto",
         "type": "bar",
         "x": [
          "Nixon"
         ],
         "xaxis": "x",
         "y": [
          3.8
         ],
         "yaxis": "y"
        },
        {
         "alignmentgroup": "True",
         "hovertemplate": "Popularity=48.307194<br>Movie Title=%{x}<br>Average User Rating=%{y}<extra></extra>",
         "legendgroup": "48.307194",
         "marker": {
          "color": "#FF97FF",
          "pattern": {
           "shape": ""
          }
         },
         "name": "48.307194",
         "offsetgroup": "48.307194",
         "orientation": "v",
         "showlegend": true,
         "textposition": "auto",
         "type": "bar",
         "x": [
          "Forrest Gump"
         ],
         "xaxis": "x",
         "y": [
          4
         ],
         "yaxis": "y"
        },
        {
         "alignmentgroup": "True",
         "hovertemplate": "Popularity=3.859495<br>Movie Title=%{x}<br>Average User Rating=%{y}<extra></extra>",
         "legendgroup": "3.859495",
         "marker": {
          "color": "#FECB52",
          "pattern": {
           "shape": ""
          }
         },
         "name": "3.859495",
         "offsetgroup": "3.859495",
         "orientation": "v",
         "showlegend": true,
         "textposition": "auto",
         "type": "bar",
         "x": [
          "Waiting to Exhale"
         ],
         "xaxis": "x",
         "y": [
          1.5
         ],
         "yaxis": "y"
        },
        {
         "alignmentgroup": "True",
         "hovertemplate": "Popularity=21.946943<br>Movie Title=%{x}<br>Average User Rating=%{y}<extra></extra>",
         "legendgroup": "21.946943",
         "marker": {
          "color": "#636efa",
          "pattern": {
           "shape": ""
          }
         },
         "name": "21.946943",
         "offsetgroup": "21.946943",
         "orientation": "v",
         "showlegend": true,
         "textposition": "auto",
         "type": "bar",
         "x": [
          "Toy Story"
         ],
         "xaxis": "x",
         "y": [
          3.87247
         ],
         "yaxis": "y"
        },
        {
         "alignmentgroup": "True",
         "hovertemplate": "Popularity=12.669608<br>Movie Title=%{x}<br>Average User Rating=%{y}<extra></extra>",
         "legendgroup": "12.669608",
         "marker": {
          "color": "#EF553B",
          "pattern": {
           "shape": ""
          }
         },
         "name": "12.669608",
         "offsetgroup": "12.669608",
         "orientation": "v",
         "showlegend": true,
         "textposition": "auto",
         "type": "bar",
         "x": [
          "Get Shorty"
         ],
         "xaxis": "x",
         "y": [
          3.85714
         ],
         "yaxis": "y"
        },
        {
         "alignmentgroup": "True",
         "hovertemplate": "Popularity=12.133094<br>Movie Title=%{x}<br>Average User Rating=%{y}<extra></extra>",
         "legendgroup": "12.133094",
         "marker": {
          "color": "#00cc96",
          "pattern": {
           "shape": ""
          }
         },
         "name": "12.133094",
         "offsetgroup": "12.133094",
         "orientation": "v",
         "showlegend": true,
         "textposition": "auto",
         "type": "bar",
         "x": [
          "Powder"
         ],
         "xaxis": "x",
         "y": [
          3.04545
         ],
         "yaxis": "y"
        },
        {
         "alignmentgroup": "True",
         "hovertemplate": "Popularity=11.065939<br>Movie Title=%{x}<br>Average User Rating=%{y}<extra></extra>",
         "legendgroup": "11.065939",
         "marker": {
          "color": "#ab63fa",
          "pattern": {
           "shape": ""
          }
         },
         "name": "11.065939",
         "offsetgroup": "11.065939",
         "orientation": "v",
         "showlegend": true,
         "textposition": "auto",
         "type": "bar",
         "x": [
          "Assassins"
         ],
         "xaxis": "x",
         "y": [
          3.75
         ],
         "yaxis": "y"
        },
        {
         "alignmentgroup": "True",
         "hovertemplate": "Popularity=10.701801<br>Movie Title=%{x}<br>Average User Rating=%{y}<extra></extra>",
         "legendgroup": "10.701801",
         "marker": {
          "color": "#FFA15A",
          "pattern": {
           "shape": ""
          }
         },
         "name": "10.701801",
         "offsetgroup": "10.701801",
         "orientation": "v",
         "showlegend": true,
         "textposition": "auto",
         "type": "bar",
         "x": [
          "Copycat"
         ],
         "xaxis": "x",
         "y": [
          3.16667
         ],
         "yaxis": "y"
        },
        {
         "alignmentgroup": "True",
         "hovertemplate": "Popularity=10.673167<br>Movie Title=%{x}<br>Average User Rating=%{y}<extra></extra>",
         "legendgroup": "10.673167",
         "marker": {
          "color": "#19d3f3",
          "pattern": {
           "shape": ""
          }
         },
         "name": "10.673167",
         "offsetgroup": "10.673167",
         "orientation": "v",
         "showlegend": true,
         "textposition": "auto",
         "type": "bar",
         "x": [
          "Sense and Sensibility"
         ],
         "xaxis": "x",
         "y": [
          4.1875
         ],
         "yaxis": "y"
        },
        {
         "alignmentgroup": "True",
         "hovertemplate": "Popularity=10.137389<br>Movie Title=%{x}<br>Average User Rating=%{y}<extra></extra>",
         "legendgroup": "10.137389",
         "marker": {
          "color": "#FF6692",
          "pattern": {
           "shape": ""
          }
         },
         "name": "10.137389",
         "offsetgroup": "10.137389",
         "orientation": "v",
         "showlegend": true,
         "textposition": "auto",
         "type": "bar",
         "x": [
          "Casino"
         ],
         "xaxis": "x",
         "y": [
          3.63158
         ],
         "yaxis": "y"
        },
        {
         "alignmentgroup": "True",
         "hovertemplate": "Popularity=10.034915<br>Movie Title=%{x}<br>Average User Rating=%{y}<extra></extra>",
         "legendgroup": "10.034915",
         "marker": {
          "color": "#B6E880",
          "pattern": {
           "shape": ""
          }
         },
         "name": "10.034915",
         "offsetgroup": "10.034915",
         "orientation": "v",
         "showlegend": true,
         "textposition": "auto",
         "type": "bar",
         "x": [
          "Matilda"
         ],
         "xaxis": "x",
         "y": [
          4
         ],
         "yaxis": "y"
        },
        {
         "line": {
          "color": "black",
          "width": 4
         },
         "mode": "lines",
         "name": "Trendline",
         "type": "scatter",
         "x": [
          "Clueless",
          "Four Rooms",
          "Jurassic Park",
          "Ace Ventura: When Nature Calls",
          "Dead Man Walking",
          "The American President",
          "Sudden Death",
          "Nixon",
          "Forrest Gump",
          "Waiting to Exhale",
          "Toy Story",
          "Get Shorty",
          "Powder",
          "Assassins",
          "Copycat",
          "Sense and Sensibility",
          "Casino",
          "Matilda"
         ],
         "y": [
          3.482959883040935,
          3.4920380667354656,
          3.501116250429996,
          3.5101944341245264,
          3.519272617819057,
          3.5283508015135876,
          3.537428985208118,
          3.5465071689026484,
          3.555585352597179,
          3.564663536291709,
          3.57374171998624,
          3.5828199036807704,
          3.591898087375301,
          3.600976271069831,
          3.6100544547643616,
          3.619132638458892,
          3.628210822153423,
          3.6372890058479532
         ]
        }
       ],
       "layout": {
        "barmode": "relative",
        "font": {
         "color": "black",
         "family": "Arial, sans-serif",
         "size": 14
        },
        "legend": {
         "title": {
          "text": "Popularity"
         },
         "tracegroupgap": 0
        },
        "paper_bgcolor": "rgba(255, 255, 255, 1)",
        "plot_bgcolor": "rgba(0, 0, 0, 0)",
        "template": {
         "data": {
          "bar": [
           {
            "error_x": {
             "color": "#2a3f5f"
            },
            "error_y": {
             "color": "#2a3f5f"
            },
            "marker": {
             "line": {
              "color": "#E5ECF6",
              "width": 0.5
             },
             "pattern": {
              "fillmode": "overlay",
              "size": 10,
              "solidity": 0.2
             }
            },
            "type": "bar"
           }
          ],
          "barpolar": [
           {
            "marker": {
             "line": {
              "color": "#E5ECF6",
              "width": 0.5
             },
             "pattern": {
              "fillmode": "overlay",
              "size": 10,
              "solidity": 0.2
             }
            },
            "type": "barpolar"
           }
          ],
          "carpet": [
           {
            "aaxis": {
             "endlinecolor": "#2a3f5f",
             "gridcolor": "white",
             "linecolor": "white",
             "minorgridcolor": "white",
             "startlinecolor": "#2a3f5f"
            },
            "baxis": {
             "endlinecolor": "#2a3f5f",
             "gridcolor": "white",
             "linecolor": "white",
             "minorgridcolor": "white",
             "startlinecolor": "#2a3f5f"
            },
            "type": "carpet"
           }
          ],
          "choropleth": [
           {
            "colorbar": {
             "outlinewidth": 0,
             "ticks": ""
            },
            "type": "choropleth"
           }
          ],
          "contour": [
           {
            "colorbar": {
             "outlinewidth": 0,
             "ticks": ""
            },
            "colorscale": [
             [
              0,
              "#0d0887"
             ],
             [
              0.1111111111111111,
              "#46039f"
             ],
             [
              0.2222222222222222,
              "#7201a8"
             ],
             [
              0.3333333333333333,
              "#9c179e"
             ],
             [
              0.4444444444444444,
              "#bd3786"
             ],
             [
              0.5555555555555556,
              "#d8576b"
             ],
             [
              0.6666666666666666,
              "#ed7953"
             ],
             [
              0.7777777777777778,
              "#fb9f3a"
             ],
             [
              0.8888888888888888,
              "#fdca26"
             ],
             [
              1,
              "#f0f921"
             ]
            ],
            "type": "contour"
           }
          ],
          "contourcarpet": [
           {
            "colorbar": {
             "outlinewidth": 0,
             "ticks": ""
            },
            "type": "contourcarpet"
           }
          ],
          "heatmap": [
           {
            "colorbar": {
             "outlinewidth": 0,
             "ticks": ""
            },
            "colorscale": [
             [
              0,
              "#0d0887"
             ],
             [
              0.1111111111111111,
              "#46039f"
             ],
             [
              0.2222222222222222,
              "#7201a8"
             ],
             [
              0.3333333333333333,
              "#9c179e"
             ],
             [
              0.4444444444444444,
              "#bd3786"
             ],
             [
              0.5555555555555556,
              "#d8576b"
             ],
             [
              0.6666666666666666,
              "#ed7953"
             ],
             [
              0.7777777777777778,
              "#fb9f3a"
             ],
             [
              0.8888888888888888,
              "#fdca26"
             ],
             [
              1,
              "#f0f921"
             ]
            ],
            "type": "heatmap"
           }
          ],
          "heatmapgl": [
           {
            "colorbar": {
             "outlinewidth": 0,
             "ticks": ""
            },
            "colorscale": [
             [
              0,
              "#0d0887"
             ],
             [
              0.1111111111111111,
              "#46039f"
             ],
             [
              0.2222222222222222,
              "#7201a8"
             ],
             [
              0.3333333333333333,
              "#9c179e"
             ],
             [
              0.4444444444444444,
              "#bd3786"
             ],
             [
              0.5555555555555556,
              "#d8576b"
             ],
             [
              0.6666666666666666,
              "#ed7953"
             ],
             [
              0.7777777777777778,
              "#fb9f3a"
             ],
             [
              0.8888888888888888,
              "#fdca26"
             ],
             [
              1,
              "#f0f921"
             ]
            ],
            "type": "heatmapgl"
           }
          ],
          "histogram": [
           {
            "marker": {
             "pattern": {
              "fillmode": "overlay",
              "size": 10,
              "solidity": 0.2
             }
            },
            "type": "histogram"
           }
          ],
          "histogram2d": [
           {
            "colorbar": {
             "outlinewidth": 0,
             "ticks": ""
            },
            "colorscale": [
             [
              0,
              "#0d0887"
             ],
             [
              0.1111111111111111,
              "#46039f"
             ],
             [
              0.2222222222222222,
              "#7201a8"
             ],
             [
              0.3333333333333333,
              "#9c179e"
             ],
             [
              0.4444444444444444,
              "#bd3786"
             ],
             [
              0.5555555555555556,
              "#d8576b"
             ],
             [
              0.6666666666666666,
              "#ed7953"
             ],
             [
              0.7777777777777778,
              "#fb9f3a"
             ],
             [
              0.8888888888888888,
              "#fdca26"
             ],
             [
              1,
              "#f0f921"
             ]
            ],
            "type": "histogram2d"
           }
          ],
          "histogram2dcontour": [
           {
            "colorbar": {
             "outlinewidth": 0,
             "ticks": ""
            },
            "colorscale": [
             [
              0,
              "#0d0887"
             ],
             [
              0.1111111111111111,
              "#46039f"
             ],
             [
              0.2222222222222222,
              "#7201a8"
             ],
             [
              0.3333333333333333,
              "#9c179e"
             ],
             [
              0.4444444444444444,
              "#bd3786"
             ],
             [
              0.5555555555555556,
              "#d8576b"
             ],
             [
              0.6666666666666666,
              "#ed7953"
             ],
             [
              0.7777777777777778,
              "#fb9f3a"
             ],
             [
              0.8888888888888888,
              "#fdca26"
             ],
             [
              1,
              "#f0f921"
             ]
            ],
            "type": "histogram2dcontour"
           }
          ],
          "mesh3d": [
           {
            "colorbar": {
             "outlinewidth": 0,
             "ticks": ""
            },
            "type": "mesh3d"
           }
          ],
          "parcoords": [
           {
            "line": {
             "colorbar": {
              "outlinewidth": 0,
              "ticks": ""
             }
            },
            "type": "parcoords"
           }
          ],
          "pie": [
           {
            "automargin": true,
            "type": "pie"
           }
          ],
          "scatter": [
           {
            "fillpattern": {
             "fillmode": "overlay",
             "size": 10,
             "solidity": 0.2
            },
            "type": "scatter"
           }
          ],
          "scatter3d": [
           {
            "line": {
             "colorbar": {
              "outlinewidth": 0,
              "ticks": ""
             }
            },
            "marker": {
             "colorbar": {
              "outlinewidth": 0,
              "ticks": ""
             }
            },
            "type": "scatter3d"
           }
          ],
          "scattercarpet": [
           {
            "marker": {
             "colorbar": {
              "outlinewidth": 0,
              "ticks": ""
             }
            },
            "type": "scattercarpet"
           }
          ],
          "scattergeo": [
           {
            "marker": {
             "colorbar": {
              "outlinewidth": 0,
              "ticks": ""
             }
            },
            "type": "scattergeo"
           }
          ],
          "scattergl": [
           {
            "marker": {
             "colorbar": {
              "outlinewidth": 0,
              "ticks": ""
             }
            },
            "type": "scattergl"
           }
          ],
          "scattermapbox": [
           {
            "marker": {
             "colorbar": {
              "outlinewidth": 0,
              "ticks": ""
             }
            },
            "type": "scattermapbox"
           }
          ],
          "scatterpolar": [
           {
            "marker": {
             "colorbar": {
              "outlinewidth": 0,
              "ticks": ""
             }
            },
            "type": "scatterpolar"
           }
          ],
          "scatterpolargl": [
           {
            "marker": {
             "colorbar": {
              "outlinewidth": 0,
              "ticks": ""
             }
            },
            "type": "scatterpolargl"
           }
          ],
          "scatterternary": [
           {
            "marker": {
             "colorbar": {
              "outlinewidth": 0,
              "ticks": ""
             }
            },
            "type": "scatterternary"
           }
          ],
          "surface": [
           {
            "colorbar": {
             "outlinewidth": 0,
             "ticks": ""
            },
            "colorscale": [
             [
              0,
              "#0d0887"
             ],
             [
              0.1111111111111111,
              "#46039f"
             ],
             [
              0.2222222222222222,
              "#7201a8"
             ],
             [
              0.3333333333333333,
              "#9c179e"
             ],
             [
              0.4444444444444444,
              "#bd3786"
             ],
             [
              0.5555555555555556,
              "#d8576b"
             ],
             [
              0.6666666666666666,
              "#ed7953"
             ],
             [
              0.7777777777777778,
              "#fb9f3a"
             ],
             [
              0.8888888888888888,
              "#fdca26"
             ],
             [
              1,
              "#f0f921"
             ]
            ],
            "type": "surface"
           }
          ],
          "table": [
           {
            "cells": {
             "fill": {
              "color": "#EBF0F8"
             },
             "line": {
              "color": "white"
             }
            },
            "header": {
             "fill": {
              "color": "#C8D4E3"
             },
             "line": {
              "color": "white"
             }
            },
            "type": "table"
           }
          ]
         },
         "layout": {
          "annotationdefaults": {
           "arrowcolor": "#2a3f5f",
           "arrowhead": 0,
           "arrowwidth": 1
          },
          "autotypenumbers": "strict",
          "coloraxis": {
           "colorbar": {
            "outlinewidth": 0,
            "ticks": ""
           }
          },
          "colorscale": {
           "diverging": [
            [
             0,
             "#8e0152"
            ],
            [
             0.1,
             "#c51b7d"
            ],
            [
             0.2,
             "#de77ae"
            ],
            [
             0.3,
             "#f1b6da"
            ],
            [
             0.4,
             "#fde0ef"
            ],
            [
             0.5,
             "#f7f7f7"
            ],
            [
             0.6,
             "#e6f5d0"
            ],
            [
             0.7,
             "#b8e186"
            ],
            [
             0.8,
             "#7fbc41"
            ],
            [
             0.9,
             "#4d9221"
            ],
            [
             1,
             "#276419"
            ]
           ],
           "sequential": [
            [
             0,
             "#0d0887"
            ],
            [
             0.1111111111111111,
             "#46039f"
            ],
            [
             0.2222222222222222,
             "#7201a8"
            ],
            [
             0.3333333333333333,
             "#9c179e"
            ],
            [
             0.4444444444444444,
             "#bd3786"
            ],
            [
             0.5555555555555556,
             "#d8576b"
            ],
            [
             0.6666666666666666,
             "#ed7953"
            ],
            [
             0.7777777777777778,
             "#fb9f3a"
            ],
            [
             0.8888888888888888,
             "#fdca26"
            ],
            [
             1,
             "#f0f921"
            ]
           ],
           "sequentialminus": [
            [
             0,
             "#0d0887"
            ],
            [
             0.1111111111111111,
             "#46039f"
            ],
            [
             0.2222222222222222,
             "#7201a8"
            ],
            [
             0.3333333333333333,
             "#9c179e"
            ],
            [
             0.4444444444444444,
             "#bd3786"
            ],
            [
             0.5555555555555556,
             "#d8576b"
            ],
            [
             0.6666666666666666,
             "#ed7953"
            ],
            [
             0.7777777777777778,
             "#fb9f3a"
            ],
            [
             0.8888888888888888,
             "#fdca26"
            ],
            [
             1,
             "#f0f921"
            ]
           ]
          },
          "colorway": [
           "#636efa",
           "#EF553B",
           "#00cc96",
           "#ab63fa",
           "#FFA15A",
           "#19d3f3",
           "#FF6692",
           "#B6E880",
           "#FF97FF",
           "#FECB52"
          ],
          "font": {
           "color": "#2a3f5f"
          },
          "geo": {
           "bgcolor": "white",
           "lakecolor": "white",
           "landcolor": "#E5ECF6",
           "showlakes": true,
           "showland": true,
           "subunitcolor": "white"
          },
          "hoverlabel": {
           "align": "left"
          },
          "hovermode": "closest",
          "mapbox": {
           "style": "light"
          },
          "paper_bgcolor": "white",
          "plot_bgcolor": "#E5ECF6",
          "polar": {
           "angularaxis": {
            "gridcolor": "white",
            "linecolor": "white",
            "ticks": ""
           },
           "bgcolor": "#E5ECF6",
           "radialaxis": {
            "gridcolor": "white",
            "linecolor": "white",
            "ticks": ""
           }
          },
          "scene": {
           "xaxis": {
            "backgroundcolor": "#E5ECF6",
            "gridcolor": "white",
            "gridwidth": 2,
            "linecolor": "white",
            "showbackground": true,
            "ticks": "",
            "zerolinecolor": "white"
           },
           "yaxis": {
            "backgroundcolor": "#E5ECF6",
            "gridcolor": "white",
            "gridwidth": 2,
            "linecolor": "white",
            "showbackground": true,
            "ticks": "",
            "zerolinecolor": "white"
           },
           "zaxis": {
            "backgroundcolor": "#E5ECF6",
            "gridcolor": "white",
            "gridwidth": 2,
            "linecolor": "white",
            "showbackground": true,
            "ticks": "",
            "zerolinecolor": "white"
           }
          },
          "shapedefaults": {
           "line": {
            "color": "#2a3f5f"
           }
          },
          "ternary": {
           "aaxis": {
            "gridcolor": "white",
            "linecolor": "white",
            "ticks": ""
           },
           "baxis": {
            "gridcolor": "white",
            "linecolor": "white",
            "ticks": ""
           },
           "bgcolor": "#E5ECF6",
           "caxis": {
            "gridcolor": "white",
            "linecolor": "white",
            "ticks": ""
           }
          },
          "title": {
           "x": 0.05
          },
          "xaxis": {
           "automargin": true,
           "gridcolor": "white",
           "linecolor": "white",
           "ticks": "",
           "title": {
            "standoff": 15
           },
           "zerolinecolor": "white",
           "zerolinewidth": 2
          },
          "yaxis": {
           "automargin": true,
           "gridcolor": "white",
           "linecolor": "white",
           "ticks": "",
           "title": {
            "standoff": 15
           },
           "zerolinecolor": "white",
           "zerolinewidth": 2
          }
         }
        },
        "title": {
         "text": "Average User Ratings and Popularity of Movies",
         "x": 0.5,
         "xanchor": "center"
        },
        "xaxis": {
         "anchor": "y",
         "domain": [
          0,
          1
         ],
         "gridcolor": "LightGrey",
         "showgrid": true,
         "title": {
          "text": "Movie Title"
         }
        },
        "yaxis": {
         "anchor": "x",
         "domain": [
          0,
          1
         ],
         "gridcolor": "LightGrey",
         "showgrid": true,
         "title": {
          "text": "Average User Rating"
         }
        }
       }
      }
     },
     "metadata": {},
     "output_type": "display_data"
    }
   ],
   "source": [
    "# Sort the DataFrame by the 'popularity' column in descending order\n",
    "hypothesis_4_df = hypothesis_4_df.sort_values(by='popularity', ascending=False)\n",
    "\n",
    "# Create the bar plot\n",
    "fig = px.bar(hypothesis_4_df, x='title', y='user_avg_rating',\n",
    "             color='popularity',  # color bars based on popularity\n",
    "             labels={'title': 'Movie Title', 'user_avg_rating': 'Average User Rating', 'popularity': 'Popularity'},\n",
    "             title='Average User Ratings and Popularity of Movies',\n",
    "             color_continuous_scale=px.colors.sequential.Turbo)  # color scale\n",
    "\n",
    "\n",
    "# Add a trendline to the bar plot\n",
    "x_values = np.arange(len(hypothesis_4_df))\n",
    "z = np.polyfit(x_values, hypothesis_4_df['user_avg_rating'], 1)\n",
    "p = np.poly1d(z)\n",
    "trendline = p(x_values)\n",
    "# Add the trendline to the bar plot\n",
    "fig.add_trace(go.Scatter(x=hypothesis_4_df['title'], y=trendline, mode='lines', name='Trendline', line=dict(color='black', width=4)))\n",
    "\n",
    "# Customize the layout to center the title and add more styling\n",
    "fig.update_layout(\n",
    "    title={'text': 'Average User Ratings and Popularity of Movies', 'x': 0.5, 'xanchor': 'center'},\n",
    "    xaxis_title='Movie Title',\n",
    "    yaxis_title='Average User Rating',\n",
    "    font=dict(family='Arial, sans-serif', size=14, color='black'),\n",
    "    plot_bgcolor='rgba(0, 0, 0, 0)',  # transparent background\n",
    "    paper_bgcolor='rgba(255, 255, 255, 1)',  # white background\n",
    "    xaxis=dict(showgrid=True, gridcolor='LightGrey'),\n",
    "    yaxis=dict(showgrid=True, gridcolor='LightGrey')\n",
    ")\n",
    "\n",
    "# Show the plot\n",
    "fig.show()\n"
   ]
  }
 ],
 "metadata": {
  "kernelspec": {
   "display_name": "Python 3",
   "language": "python",
   "name": "python3"
  },
  "language_info": {
   "codemirror_mode": {
    "name": "ipython",
    "version": 3
   },
   "file_extension": ".py",
   "mimetype": "text/x-python",
   "name": "python",
   "nbconvert_exporter": "python",
   "pygments_lexer": "ipython3",
   "version": "3.9.6"
  }
 },
 "nbformat": 4,
 "nbformat_minor": 2
}
